{
 "cells": [
  {
   "cell_type": "markdown",
   "metadata": {},
   "source": [
    "# Data Visualization - Group 2"
   ]
  },
  {
   "cell_type": "markdown",
   "metadata": {},
   "source": [
    "# Mohammed Ibrahim Daniyal - 20181CSE0431\n",
    "# Mohammed Zaeem - 20181CSE0438\n",
    "# Nagarathna SH - 20181CSE0461\n",
    "# Syed Fuzail Jalaludeen - 20181CSE0731"
   ]
  },
  {
   "cell_type": "markdown",
   "metadata": {},
   "source": [
    "---------------------------------------------------------------------------------------------------------------"
   ]
  },
  {
   "cell_type": "markdown",
   "metadata": {},
   "source": [
    "# Importing Libraries"
   ]
  },
  {
   "cell_type": "code",
   "execution_count": 1,
   "metadata": {},
   "outputs": [],
   "source": [
    "import pandas as pd \n",
    "import matplotlib.pyplot as plt \n",
    "from pywaffle import Waffle \n",
    "import seaborn as sns\n",
    "import plotly.express as px\n",
    "import plotly.graph_objects as go\n",
    "\n",
    "%matplotlib inline\n",
    "\n",
    "import warnings\n",
    "warnings.filterwarnings('ignore')"
   ]
  },
  {
   "cell_type": "markdown",
   "metadata": {},
   "source": [
    "# Dataset"
   ]
  },
  {
   "cell_type": "code",
   "execution_count": 2,
   "metadata": {},
   "outputs": [],
   "source": [
    "data=pd.read_csv(\"worldometer_data.csv\")"
   ]
  },
  {
   "cell_type": "markdown",
   "metadata": {},
   "source": [
    "# Top 10 Rows"
   ]
  },
  {
   "cell_type": "code",
   "execution_count": 3,
   "metadata": {},
   "outputs": [
    {
     "data": {
      "text/html": [
       "<div>\n",
       "<style scoped>\n",
       "    .dataframe tbody tr th:only-of-type {\n",
       "        vertical-align: middle;\n",
       "    }\n",
       "\n",
       "    .dataframe tbody tr th {\n",
       "        vertical-align: top;\n",
       "    }\n",
       "\n",
       "    .dataframe thead th {\n",
       "        text-align: right;\n",
       "    }\n",
       "</style>\n",
       "<table border=\"1\" class=\"dataframe\">\n",
       "  <thead>\n",
       "    <tr style=\"text-align: right;\">\n",
       "      <th></th>\n",
       "      <th>Country/Region</th>\n",
       "      <th>Continent</th>\n",
       "      <th>Population</th>\n",
       "      <th>TotalCases</th>\n",
       "      <th>NewCases</th>\n",
       "      <th>TotalDeaths</th>\n",
       "      <th>NewDeaths</th>\n",
       "      <th>TotalRecovered</th>\n",
       "      <th>NewRecovered</th>\n",
       "      <th>ActiveCases</th>\n",
       "      <th>Serious,Critical</th>\n",
       "      <th>TotalTests</th>\n",
       "      <th>WHO Region</th>\n",
       "    </tr>\n",
       "  </thead>\n",
       "  <tbody>\n",
       "    <tr>\n",
       "      <th>0</th>\n",
       "      <td>USA</td>\n",
       "      <td>North America</td>\n",
       "      <td>3.311981e+08</td>\n",
       "      <td>5032179</td>\n",
       "      <td>NaN</td>\n",
       "      <td>162804.0</td>\n",
       "      <td>NaN</td>\n",
       "      <td>2576668.0</td>\n",
       "      <td>NaN</td>\n",
       "      <td>2292707.0</td>\n",
       "      <td>18296.0</td>\n",
       "      <td>63139605.0</td>\n",
       "      <td>Americas</td>\n",
       "    </tr>\n",
       "    <tr>\n",
       "      <th>1</th>\n",
       "      <td>Brazil</td>\n",
       "      <td>South America</td>\n",
       "      <td>2.127107e+08</td>\n",
       "      <td>2917562</td>\n",
       "      <td>NaN</td>\n",
       "      <td>98644.0</td>\n",
       "      <td>NaN</td>\n",
       "      <td>2047660.0</td>\n",
       "      <td>NaN</td>\n",
       "      <td>771258.0</td>\n",
       "      <td>8318.0</td>\n",
       "      <td>13206188.0</td>\n",
       "      <td>Americas</td>\n",
       "    </tr>\n",
       "    <tr>\n",
       "      <th>2</th>\n",
       "      <td>India</td>\n",
       "      <td>Asia</td>\n",
       "      <td>1.381345e+09</td>\n",
       "      <td>2025409</td>\n",
       "      <td>NaN</td>\n",
       "      <td>41638.0</td>\n",
       "      <td>NaN</td>\n",
       "      <td>1377384.0</td>\n",
       "      <td>NaN</td>\n",
       "      <td>606387.0</td>\n",
       "      <td>8944.0</td>\n",
       "      <td>22149351.0</td>\n",
       "      <td>South-EastAsia</td>\n",
       "    </tr>\n",
       "    <tr>\n",
       "      <th>3</th>\n",
       "      <td>Russia</td>\n",
       "      <td>Europe</td>\n",
       "      <td>1.459409e+08</td>\n",
       "      <td>871894</td>\n",
       "      <td>NaN</td>\n",
       "      <td>14606.0</td>\n",
       "      <td>NaN</td>\n",
       "      <td>676357.0</td>\n",
       "      <td>NaN</td>\n",
       "      <td>180931.0</td>\n",
       "      <td>2300.0</td>\n",
       "      <td>29716907.0</td>\n",
       "      <td>Europe</td>\n",
       "    </tr>\n",
       "    <tr>\n",
       "      <th>4</th>\n",
       "      <td>South Africa</td>\n",
       "      <td>Africa</td>\n",
       "      <td>5.938157e+07</td>\n",
       "      <td>538184</td>\n",
       "      <td>NaN</td>\n",
       "      <td>9604.0</td>\n",
       "      <td>NaN</td>\n",
       "      <td>387316.0</td>\n",
       "      <td>NaN</td>\n",
       "      <td>141264.0</td>\n",
       "      <td>539.0</td>\n",
       "      <td>3149807.0</td>\n",
       "      <td>Africa</td>\n",
       "    </tr>\n",
       "    <tr>\n",
       "      <th>5</th>\n",
       "      <td>Mexico</td>\n",
       "      <td>North America</td>\n",
       "      <td>1.290662e+08</td>\n",
       "      <td>462690</td>\n",
       "      <td>6590.0</td>\n",
       "      <td>50517.0</td>\n",
       "      <td>819.0</td>\n",
       "      <td>308848.0</td>\n",
       "      <td>4140.0</td>\n",
       "      <td>103325.0</td>\n",
       "      <td>3987.0</td>\n",
       "      <td>1056915.0</td>\n",
       "      <td>Americas</td>\n",
       "    </tr>\n",
       "    <tr>\n",
       "      <th>6</th>\n",
       "      <td>Peru</td>\n",
       "      <td>South America</td>\n",
       "      <td>3.301632e+07</td>\n",
       "      <td>455409</td>\n",
       "      <td>NaN</td>\n",
       "      <td>20424.0</td>\n",
       "      <td>NaN</td>\n",
       "      <td>310337.0</td>\n",
       "      <td>NaN</td>\n",
       "      <td>124648.0</td>\n",
       "      <td>1426.0</td>\n",
       "      <td>2493429.0</td>\n",
       "      <td>Americas</td>\n",
       "    </tr>\n",
       "    <tr>\n",
       "      <th>7</th>\n",
       "      <td>Chile</td>\n",
       "      <td>South America</td>\n",
       "      <td>1.913251e+07</td>\n",
       "      <td>366671</td>\n",
       "      <td>NaN</td>\n",
       "      <td>9889.0</td>\n",
       "      <td>NaN</td>\n",
       "      <td>340168.0</td>\n",
       "      <td>NaN</td>\n",
       "      <td>16614.0</td>\n",
       "      <td>1358.0</td>\n",
       "      <td>1760615.0</td>\n",
       "      <td>Americas</td>\n",
       "    </tr>\n",
       "    <tr>\n",
       "      <th>8</th>\n",
       "      <td>Colombia</td>\n",
       "      <td>South America</td>\n",
       "      <td>5.093626e+07</td>\n",
       "      <td>357710</td>\n",
       "      <td>NaN</td>\n",
       "      <td>11939.0</td>\n",
       "      <td>NaN</td>\n",
       "      <td>192355.0</td>\n",
       "      <td>NaN</td>\n",
       "      <td>153416.0</td>\n",
       "      <td>1493.0</td>\n",
       "      <td>1801835.0</td>\n",
       "      <td>Americas</td>\n",
       "    </tr>\n",
       "    <tr>\n",
       "      <th>9</th>\n",
       "      <td>Spain</td>\n",
       "      <td>Europe</td>\n",
       "      <td>4.675665e+07</td>\n",
       "      <td>354530</td>\n",
       "      <td>NaN</td>\n",
       "      <td>28500.0</td>\n",
       "      <td>NaN</td>\n",
       "      <td>NaN</td>\n",
       "      <td>NaN</td>\n",
       "      <td>NaN</td>\n",
       "      <td>617.0</td>\n",
       "      <td>7064329.0</td>\n",
       "      <td>Europe</td>\n",
       "    </tr>\n",
       "  </tbody>\n",
       "</table>\n",
       "</div>"
      ],
      "text/plain": [
       "  Country/Region      Continent    Population  TotalCases  NewCases  \\\n",
       "0            USA  North America  3.311981e+08     5032179       NaN   \n",
       "1         Brazil  South America  2.127107e+08     2917562       NaN   \n",
       "2          India           Asia  1.381345e+09     2025409       NaN   \n",
       "3         Russia         Europe  1.459409e+08      871894       NaN   \n",
       "4   South Africa         Africa  5.938157e+07      538184       NaN   \n",
       "5         Mexico  North America  1.290662e+08      462690    6590.0   \n",
       "6           Peru  South America  3.301632e+07      455409       NaN   \n",
       "7          Chile  South America  1.913251e+07      366671       NaN   \n",
       "8       Colombia  South America  5.093626e+07      357710       NaN   \n",
       "9          Spain         Europe  4.675665e+07      354530       NaN   \n",
       "\n",
       "   TotalDeaths  NewDeaths  TotalRecovered  NewRecovered  ActiveCases  \\\n",
       "0     162804.0        NaN       2576668.0           NaN    2292707.0   \n",
       "1      98644.0        NaN       2047660.0           NaN     771258.0   \n",
       "2      41638.0        NaN       1377384.0           NaN     606387.0   \n",
       "3      14606.0        NaN        676357.0           NaN     180931.0   \n",
       "4       9604.0        NaN        387316.0           NaN     141264.0   \n",
       "5      50517.0      819.0        308848.0        4140.0     103325.0   \n",
       "6      20424.0        NaN        310337.0           NaN     124648.0   \n",
       "7       9889.0        NaN        340168.0           NaN      16614.0   \n",
       "8      11939.0        NaN        192355.0           NaN     153416.0   \n",
       "9      28500.0        NaN             NaN           NaN          NaN   \n",
       "\n",
       "   Serious,Critical  TotalTests      WHO Region  \n",
       "0           18296.0  63139605.0        Americas  \n",
       "1            8318.0  13206188.0        Americas  \n",
       "2            8944.0  22149351.0  South-EastAsia  \n",
       "3            2300.0  29716907.0          Europe  \n",
       "4             539.0   3149807.0          Africa  \n",
       "5            3987.0   1056915.0        Americas  \n",
       "6            1426.0   2493429.0        Americas  \n",
       "7            1358.0   1760615.0        Americas  \n",
       "8            1493.0   1801835.0        Americas  \n",
       "9             617.0   7064329.0          Europe  "
      ]
     },
     "execution_count": 3,
     "metadata": {},
     "output_type": "execute_result"
    }
   ],
   "source": [
    "data.head(10)"
   ]
  },
  {
   "cell_type": "markdown",
   "metadata": {},
   "source": [
    "# Bottom 10 Rows"
   ]
  },
  {
   "cell_type": "code",
   "execution_count": 4,
   "metadata": {},
   "outputs": [
    {
     "data": {
      "text/html": [
       "<div>\n",
       "<style scoped>\n",
       "    .dataframe tbody tr th:only-of-type {\n",
       "        vertical-align: middle;\n",
       "    }\n",
       "\n",
       "    .dataframe tbody tr th {\n",
       "        vertical-align: top;\n",
       "    }\n",
       "\n",
       "    .dataframe thead th {\n",
       "        text-align: right;\n",
       "    }\n",
       "</style>\n",
       "<table border=\"1\" class=\"dataframe\">\n",
       "  <thead>\n",
       "    <tr style=\"text-align: right;\">\n",
       "      <th></th>\n",
       "      <th>Country/Region</th>\n",
       "      <th>Continent</th>\n",
       "      <th>Population</th>\n",
       "      <th>TotalCases</th>\n",
       "      <th>NewCases</th>\n",
       "      <th>TotalDeaths</th>\n",
       "      <th>NewDeaths</th>\n",
       "      <th>TotalRecovered</th>\n",
       "      <th>NewRecovered</th>\n",
       "      <th>ActiveCases</th>\n",
       "      <th>Serious,Critical</th>\n",
       "      <th>TotalTests</th>\n",
       "      <th>WHO Region</th>\n",
       "    </tr>\n",
       "  </thead>\n",
       "  <tbody>\n",
       "    <tr>\n",
       "      <th>199</th>\n",
       "      <td>New Caledonia</td>\n",
       "      <td>Australia/Oceania</td>\n",
       "      <td>285769.0</td>\n",
       "      <td>22</td>\n",
       "      <td>NaN</td>\n",
       "      <td>NaN</td>\n",
       "      <td>NaN</td>\n",
       "      <td>22.0</td>\n",
       "      <td>NaN</td>\n",
       "      <td>0.0</td>\n",
       "      <td>NaN</td>\n",
       "      <td>11099.0</td>\n",
       "      <td>NaN</td>\n",
       "    </tr>\n",
       "    <tr>\n",
       "      <th>200</th>\n",
       "      <td>Laos</td>\n",
       "      <td>Asia</td>\n",
       "      <td>7285750.0</td>\n",
       "      <td>20</td>\n",
       "      <td>NaN</td>\n",
       "      <td>NaN</td>\n",
       "      <td>NaN</td>\n",
       "      <td>19.0</td>\n",
       "      <td>NaN</td>\n",
       "      <td>1.0</td>\n",
       "      <td>NaN</td>\n",
       "      <td>29374.0</td>\n",
       "      <td>WesternPacific</td>\n",
       "    </tr>\n",
       "    <tr>\n",
       "      <th>201</th>\n",
       "      <td>Dominica</td>\n",
       "      <td>North America</td>\n",
       "      <td>72004.0</td>\n",
       "      <td>18</td>\n",
       "      <td>NaN</td>\n",
       "      <td>NaN</td>\n",
       "      <td>NaN</td>\n",
       "      <td>18.0</td>\n",
       "      <td>NaN</td>\n",
       "      <td>0.0</td>\n",
       "      <td>NaN</td>\n",
       "      <td>1005.0</td>\n",
       "      <td>Americas</td>\n",
       "    </tr>\n",
       "    <tr>\n",
       "      <th>202</th>\n",
       "      <td>Saint Kitts and Nevis</td>\n",
       "      <td>North America</td>\n",
       "      <td>53237.0</td>\n",
       "      <td>17</td>\n",
       "      <td>NaN</td>\n",
       "      <td>NaN</td>\n",
       "      <td>NaN</td>\n",
       "      <td>16.0</td>\n",
       "      <td>NaN</td>\n",
       "      <td>1.0</td>\n",
       "      <td>NaN</td>\n",
       "      <td>1146.0</td>\n",
       "      <td>Americas</td>\n",
       "    </tr>\n",
       "    <tr>\n",
       "      <th>203</th>\n",
       "      <td>Greenland</td>\n",
       "      <td>North America</td>\n",
       "      <td>56780.0</td>\n",
       "      <td>14</td>\n",
       "      <td>NaN</td>\n",
       "      <td>NaN</td>\n",
       "      <td>NaN</td>\n",
       "      <td>14.0</td>\n",
       "      <td>NaN</td>\n",
       "      <td>0.0</td>\n",
       "      <td>NaN</td>\n",
       "      <td>5977.0</td>\n",
       "      <td>Europe</td>\n",
       "    </tr>\n",
       "    <tr>\n",
       "      <th>204</th>\n",
       "      <td>Montserrat</td>\n",
       "      <td>North America</td>\n",
       "      <td>4992.0</td>\n",
       "      <td>13</td>\n",
       "      <td>NaN</td>\n",
       "      <td>1.0</td>\n",
       "      <td>NaN</td>\n",
       "      <td>10.0</td>\n",
       "      <td>NaN</td>\n",
       "      <td>2.0</td>\n",
       "      <td>NaN</td>\n",
       "      <td>61.0</td>\n",
       "      <td>NaN</td>\n",
       "    </tr>\n",
       "    <tr>\n",
       "      <th>205</th>\n",
       "      <td>Caribbean Netherlands</td>\n",
       "      <td>North America</td>\n",
       "      <td>26247.0</td>\n",
       "      <td>13</td>\n",
       "      <td>NaN</td>\n",
       "      <td>NaN</td>\n",
       "      <td>NaN</td>\n",
       "      <td>7.0</td>\n",
       "      <td>NaN</td>\n",
       "      <td>6.0</td>\n",
       "      <td>NaN</td>\n",
       "      <td>424.0</td>\n",
       "      <td>NaN</td>\n",
       "    </tr>\n",
       "    <tr>\n",
       "      <th>206</th>\n",
       "      <td>Falkland Islands</td>\n",
       "      <td>South America</td>\n",
       "      <td>3489.0</td>\n",
       "      <td>13</td>\n",
       "      <td>NaN</td>\n",
       "      <td>NaN</td>\n",
       "      <td>NaN</td>\n",
       "      <td>13.0</td>\n",
       "      <td>NaN</td>\n",
       "      <td>0.0</td>\n",
       "      <td>NaN</td>\n",
       "      <td>1816.0</td>\n",
       "      <td>NaN</td>\n",
       "    </tr>\n",
       "    <tr>\n",
       "      <th>207</th>\n",
       "      <td>Vatican City</td>\n",
       "      <td>Europe</td>\n",
       "      <td>801.0</td>\n",
       "      <td>12</td>\n",
       "      <td>NaN</td>\n",
       "      <td>NaN</td>\n",
       "      <td>NaN</td>\n",
       "      <td>12.0</td>\n",
       "      <td>NaN</td>\n",
       "      <td>0.0</td>\n",
       "      <td>NaN</td>\n",
       "      <td>NaN</td>\n",
       "      <td>Europe</td>\n",
       "    </tr>\n",
       "    <tr>\n",
       "      <th>208</th>\n",
       "      <td>Western Sahara</td>\n",
       "      <td>Africa</td>\n",
       "      <td>598682.0</td>\n",
       "      <td>10</td>\n",
       "      <td>NaN</td>\n",
       "      <td>1.0</td>\n",
       "      <td>NaN</td>\n",
       "      <td>8.0</td>\n",
       "      <td>NaN</td>\n",
       "      <td>1.0</td>\n",
       "      <td>NaN</td>\n",
       "      <td>NaN</td>\n",
       "      <td>Africa</td>\n",
       "    </tr>\n",
       "  </tbody>\n",
       "</table>\n",
       "</div>"
      ],
      "text/plain": [
       "            Country/Region          Continent  Population  TotalCases  \\\n",
       "199          New Caledonia  Australia/Oceania    285769.0          22   \n",
       "200                   Laos               Asia   7285750.0          20   \n",
       "201               Dominica      North America     72004.0          18   \n",
       "202  Saint Kitts and Nevis      North America     53237.0          17   \n",
       "203              Greenland      North America     56780.0          14   \n",
       "204             Montserrat      North America      4992.0          13   \n",
       "205  Caribbean Netherlands      North America     26247.0          13   \n",
       "206       Falkland Islands      South America      3489.0          13   \n",
       "207           Vatican City             Europe       801.0          12   \n",
       "208         Western Sahara             Africa    598682.0          10   \n",
       "\n",
       "     NewCases  TotalDeaths  NewDeaths  TotalRecovered  NewRecovered  \\\n",
       "199       NaN          NaN        NaN            22.0           NaN   \n",
       "200       NaN          NaN        NaN            19.0           NaN   \n",
       "201       NaN          NaN        NaN            18.0           NaN   \n",
       "202       NaN          NaN        NaN            16.0           NaN   \n",
       "203       NaN          NaN        NaN            14.0           NaN   \n",
       "204       NaN          1.0        NaN            10.0           NaN   \n",
       "205       NaN          NaN        NaN             7.0           NaN   \n",
       "206       NaN          NaN        NaN            13.0           NaN   \n",
       "207       NaN          NaN        NaN            12.0           NaN   \n",
       "208       NaN          1.0        NaN             8.0           NaN   \n",
       "\n",
       "     ActiveCases  Serious,Critical  TotalTests      WHO Region  \n",
       "199          0.0               NaN     11099.0             NaN  \n",
       "200          1.0               NaN     29374.0  WesternPacific  \n",
       "201          0.0               NaN      1005.0        Americas  \n",
       "202          1.0               NaN      1146.0        Americas  \n",
       "203          0.0               NaN      5977.0          Europe  \n",
       "204          2.0               NaN        61.0             NaN  \n",
       "205          6.0               NaN       424.0             NaN  \n",
       "206          0.0               NaN      1816.0             NaN  \n",
       "207          0.0               NaN         NaN          Europe  \n",
       "208          1.0               NaN         NaN          Africa  "
      ]
     },
     "execution_count": 4,
     "metadata": {},
     "output_type": "execute_result"
    }
   ],
   "source": [
    "data.tail(10)"
   ]
  },
  {
   "cell_type": "markdown",
   "metadata": {},
   "source": [
    "# Dataframe Shape"
   ]
  },
  {
   "cell_type": "code",
   "execution_count": 5,
   "metadata": {},
   "outputs": [
    {
     "data": {
      "text/plain": [
       "(209, 13)"
      ]
     },
     "execution_count": 5,
     "metadata": {},
     "output_type": "execute_result"
    }
   ],
   "source": [
    "data.shape"
   ]
  },
  {
   "cell_type": "markdown",
   "metadata": {},
   "source": [
    "# Dataframe Information"
   ]
  },
  {
   "cell_type": "code",
   "execution_count": 6,
   "metadata": {},
   "outputs": [
    {
     "name": "stdout",
     "output_type": "stream",
     "text": [
      "<class 'pandas.core.frame.DataFrame'>\n",
      "RangeIndex: 209 entries, 0 to 208\n",
      "Data columns (total 13 columns):\n",
      " #   Column            Non-Null Count  Dtype  \n",
      "---  ------            --------------  -----  \n",
      " 0   Country/Region    209 non-null    object \n",
      " 1   Continent         208 non-null    object \n",
      " 2   Population        208 non-null    float64\n",
      " 3   TotalCases        209 non-null    int64  \n",
      " 4   NewCases          4 non-null      float64\n",
      " 5   TotalDeaths       188 non-null    float64\n",
      " 6   NewDeaths         3 non-null      float64\n",
      " 7   TotalRecovered    205 non-null    float64\n",
      " 8   NewRecovered      3 non-null      float64\n",
      " 9   ActiveCases       205 non-null    float64\n",
      " 10  Serious,Critical  122 non-null    float64\n",
      " 11  TotalTests        191 non-null    float64\n",
      " 12  WHO Region        184 non-null    object \n",
      "dtypes: float64(9), int64(1), object(3)\n",
      "memory usage: 21.4+ KB\n"
     ]
    }
   ],
   "source": [
    "data.info()"
   ]
  },
  {
   "cell_type": "markdown",
   "metadata": {},
   "source": [
    "## Descriptive Statistics"
   ]
  },
  {
   "cell_type": "code",
   "execution_count": 7,
   "metadata": {},
   "outputs": [
    {
     "data": {
      "text/html": [
       "<div>\n",
       "<style scoped>\n",
       "    .dataframe tbody tr th:only-of-type {\n",
       "        vertical-align: middle;\n",
       "    }\n",
       "\n",
       "    .dataframe tbody tr th {\n",
       "        vertical-align: top;\n",
       "    }\n",
       "\n",
       "    .dataframe thead th {\n",
       "        text-align: right;\n",
       "    }\n",
       "</style>\n",
       "<table border=\"1\" class=\"dataframe\">\n",
       "  <thead>\n",
       "    <tr style=\"text-align: right;\">\n",
       "      <th></th>\n",
       "      <th>Population</th>\n",
       "      <th>TotalCases</th>\n",
       "      <th>NewCases</th>\n",
       "      <th>TotalDeaths</th>\n",
       "      <th>NewDeaths</th>\n",
       "      <th>TotalRecovered</th>\n",
       "      <th>NewRecovered</th>\n",
       "      <th>ActiveCases</th>\n",
       "      <th>Serious,Critical</th>\n",
       "      <th>TotalTests</th>\n",
       "    </tr>\n",
       "  </thead>\n",
       "  <tbody>\n",
       "    <tr>\n",
       "      <th>count</th>\n",
       "      <td>2.080000e+02</td>\n",
       "      <td>2.090000e+02</td>\n",
       "      <td>4.000000</td>\n",
       "      <td>188.000000</td>\n",
       "      <td>3.000000</td>\n",
       "      <td>2.050000e+02</td>\n",
       "      <td>3.000000</td>\n",
       "      <td>2.050000e+02</td>\n",
       "      <td>122.000000</td>\n",
       "      <td>1.910000e+02</td>\n",
       "    </tr>\n",
       "    <tr>\n",
       "      <th>mean</th>\n",
       "      <td>3.041549e+07</td>\n",
       "      <td>9.171850e+04</td>\n",
       "      <td>1980.500000</td>\n",
       "      <td>3792.590426</td>\n",
       "      <td>300.000000</td>\n",
       "      <td>5.887898e+04</td>\n",
       "      <td>1706.000000</td>\n",
       "      <td>2.766433e+04</td>\n",
       "      <td>534.393443</td>\n",
       "      <td>1.402405e+06</td>\n",
       "    </tr>\n",
       "    <tr>\n",
       "      <th>std</th>\n",
       "      <td>1.047661e+08</td>\n",
       "      <td>4.325867e+05</td>\n",
       "      <td>3129.611424</td>\n",
       "      <td>15487.184877</td>\n",
       "      <td>451.199512</td>\n",
       "      <td>2.566984e+05</td>\n",
       "      <td>2154.779803</td>\n",
       "      <td>1.746327e+05</td>\n",
       "      <td>2047.518613</td>\n",
       "      <td>5.553367e+06</td>\n",
       "    </tr>\n",
       "    <tr>\n",
       "      <th>min</th>\n",
       "      <td>8.010000e+02</td>\n",
       "      <td>1.000000e+01</td>\n",
       "      <td>20.000000</td>\n",
       "      <td>1.000000</td>\n",
       "      <td>1.000000</td>\n",
       "      <td>7.000000e+00</td>\n",
       "      <td>42.000000</td>\n",
       "      <td>0.000000e+00</td>\n",
       "      <td>1.000000</td>\n",
       "      <td>6.100000e+01</td>\n",
       "    </tr>\n",
       "    <tr>\n",
       "      <th>25%</th>\n",
       "      <td>9.663140e+05</td>\n",
       "      <td>7.120000e+02</td>\n",
       "      <td>27.500000</td>\n",
       "      <td>22.000000</td>\n",
       "      <td>40.500000</td>\n",
       "      <td>3.340000e+02</td>\n",
       "      <td>489.000000</td>\n",
       "      <td>8.600000e+01</td>\n",
       "      <td>3.250000</td>\n",
       "      <td>2.575200e+04</td>\n",
       "    </tr>\n",
       "    <tr>\n",
       "      <th>50%</th>\n",
       "      <td>7.041972e+06</td>\n",
       "      <td>4.491000e+03</td>\n",
       "      <td>656.000000</td>\n",
       "      <td>113.000000</td>\n",
       "      <td>80.000000</td>\n",
       "      <td>2.178000e+03</td>\n",
       "      <td>936.000000</td>\n",
       "      <td>8.990000e+02</td>\n",
       "      <td>27.500000</td>\n",
       "      <td>1.357020e+05</td>\n",
       "    </tr>\n",
       "    <tr>\n",
       "      <th>75%</th>\n",
       "      <td>2.575614e+07</td>\n",
       "      <td>3.689600e+04</td>\n",
       "      <td>2609.000000</td>\n",
       "      <td>786.000000</td>\n",
       "      <td>449.500000</td>\n",
       "      <td>2.055300e+04</td>\n",
       "      <td>2538.000000</td>\n",
       "      <td>7.124000e+03</td>\n",
       "      <td>160.250000</td>\n",
       "      <td>7.576960e+05</td>\n",
       "    </tr>\n",
       "    <tr>\n",
       "      <th>max</th>\n",
       "      <td>1.381345e+09</td>\n",
       "      <td>5.032179e+06</td>\n",
       "      <td>6590.000000</td>\n",
       "      <td>162804.000000</td>\n",
       "      <td>819.000000</td>\n",
       "      <td>2.576668e+06</td>\n",
       "      <td>4140.000000</td>\n",
       "      <td>2.292707e+06</td>\n",
       "      <td>18296.000000</td>\n",
       "      <td>6.313960e+07</td>\n",
       "    </tr>\n",
       "  </tbody>\n",
       "</table>\n",
       "</div>"
      ],
      "text/plain": [
       "         Population    TotalCases     NewCases    TotalDeaths   NewDeaths  \\\n",
       "count  2.080000e+02  2.090000e+02     4.000000     188.000000    3.000000   \n",
       "mean   3.041549e+07  9.171850e+04  1980.500000    3792.590426  300.000000   \n",
       "std    1.047661e+08  4.325867e+05  3129.611424   15487.184877  451.199512   \n",
       "min    8.010000e+02  1.000000e+01    20.000000       1.000000    1.000000   \n",
       "25%    9.663140e+05  7.120000e+02    27.500000      22.000000   40.500000   \n",
       "50%    7.041972e+06  4.491000e+03   656.000000     113.000000   80.000000   \n",
       "75%    2.575614e+07  3.689600e+04  2609.000000     786.000000  449.500000   \n",
       "max    1.381345e+09  5.032179e+06  6590.000000  162804.000000  819.000000   \n",
       "\n",
       "       TotalRecovered  NewRecovered   ActiveCases  Serious,Critical  \\\n",
       "count    2.050000e+02      3.000000  2.050000e+02        122.000000   \n",
       "mean     5.887898e+04   1706.000000  2.766433e+04        534.393443   \n",
       "std      2.566984e+05   2154.779803  1.746327e+05       2047.518613   \n",
       "min      7.000000e+00     42.000000  0.000000e+00          1.000000   \n",
       "25%      3.340000e+02    489.000000  8.600000e+01          3.250000   \n",
       "50%      2.178000e+03    936.000000  8.990000e+02         27.500000   \n",
       "75%      2.055300e+04   2538.000000  7.124000e+03        160.250000   \n",
       "max      2.576668e+06   4140.000000  2.292707e+06      18296.000000   \n",
       "\n",
       "         TotalTests  \n",
       "count  1.910000e+02  \n",
       "mean   1.402405e+06  \n",
       "std    5.553367e+06  \n",
       "min    6.100000e+01  \n",
       "25%    2.575200e+04  \n",
       "50%    1.357020e+05  \n",
       "75%    7.576960e+05  \n",
       "max    6.313960e+07  "
      ]
     },
     "execution_count": 7,
     "metadata": {},
     "output_type": "execute_result"
    }
   ],
   "source": [
    "data.describe()"
   ]
  },
  {
   "cell_type": "markdown",
   "metadata": {},
   "source": [
    "# Data Analysis"
   ]
  },
  {
   "cell_type": "code",
   "execution_count": 8,
   "metadata": {},
   "outputs": [
    {
     "data": {
      "text/html": [
       "<div>\n",
       "<style scoped>\n",
       "    .dataframe tbody tr th:only-of-type {\n",
       "        vertical-align: middle;\n",
       "    }\n",
       "\n",
       "    .dataframe tbody tr th {\n",
       "        vertical-align: top;\n",
       "    }\n",
       "\n",
       "    .dataframe thead th {\n",
       "        text-align: right;\n",
       "    }\n",
       "</style>\n",
       "<table border=\"1\" class=\"dataframe\">\n",
       "  <thead>\n",
       "    <tr style=\"text-align: right;\">\n",
       "      <th></th>\n",
       "      <th>Country/Region</th>\n",
       "      <th>Continent</th>\n",
       "      <th>Population</th>\n",
       "      <th>TotalCases</th>\n",
       "      <th>NewCases</th>\n",
       "      <th>TotalDeaths</th>\n",
       "      <th>NewDeaths</th>\n",
       "      <th>TotalRecovered</th>\n",
       "      <th>NewRecovered</th>\n",
       "      <th>ActiveCases</th>\n",
       "      <th>Serious,Critical</th>\n",
       "      <th>TotalTests</th>\n",
       "      <th>WHO Region</th>\n",
       "    </tr>\n",
       "  </thead>\n",
       "  <tbody>\n",
       "    <tr>\n",
       "      <th>0</th>\n",
       "      <td>USA</td>\n",
       "      <td>North America</td>\n",
       "      <td>3.311981e+08</td>\n",
       "      <td>5032179</td>\n",
       "      <td>NaN</td>\n",
       "      <td>162804.0</td>\n",
       "      <td>NaN</td>\n",
       "      <td>2576668.0</td>\n",
       "      <td>NaN</td>\n",
       "      <td>2292707.0</td>\n",
       "      <td>18296.0</td>\n",
       "      <td>63139605.0</td>\n",
       "      <td>Americas</td>\n",
       "    </tr>\n",
       "    <tr>\n",
       "      <th>1</th>\n",
       "      <td>Brazil</td>\n",
       "      <td>South America</td>\n",
       "      <td>2.127107e+08</td>\n",
       "      <td>2917562</td>\n",
       "      <td>NaN</td>\n",
       "      <td>98644.0</td>\n",
       "      <td>NaN</td>\n",
       "      <td>2047660.0</td>\n",
       "      <td>NaN</td>\n",
       "      <td>771258.0</td>\n",
       "      <td>8318.0</td>\n",
       "      <td>13206188.0</td>\n",
       "      <td>Americas</td>\n",
       "    </tr>\n",
       "    <tr>\n",
       "      <th>2</th>\n",
       "      <td>India</td>\n",
       "      <td>Asia</td>\n",
       "      <td>1.381345e+09</td>\n",
       "      <td>2025409</td>\n",
       "      <td>NaN</td>\n",
       "      <td>41638.0</td>\n",
       "      <td>NaN</td>\n",
       "      <td>1377384.0</td>\n",
       "      <td>NaN</td>\n",
       "      <td>606387.0</td>\n",
       "      <td>8944.0</td>\n",
       "      <td>22149351.0</td>\n",
       "      <td>South-EastAsia</td>\n",
       "    </tr>\n",
       "    <tr>\n",
       "      <th>3</th>\n",
       "      <td>Russia</td>\n",
       "      <td>Europe</td>\n",
       "      <td>1.459409e+08</td>\n",
       "      <td>871894</td>\n",
       "      <td>NaN</td>\n",
       "      <td>14606.0</td>\n",
       "      <td>NaN</td>\n",
       "      <td>676357.0</td>\n",
       "      <td>NaN</td>\n",
       "      <td>180931.0</td>\n",
       "      <td>2300.0</td>\n",
       "      <td>29716907.0</td>\n",
       "      <td>Europe</td>\n",
       "    </tr>\n",
       "    <tr>\n",
       "      <th>4</th>\n",
       "      <td>South Africa</td>\n",
       "      <td>Africa</td>\n",
       "      <td>5.938157e+07</td>\n",
       "      <td>538184</td>\n",
       "      <td>NaN</td>\n",
       "      <td>9604.0</td>\n",
       "      <td>NaN</td>\n",
       "      <td>387316.0</td>\n",
       "      <td>NaN</td>\n",
       "      <td>141264.0</td>\n",
       "      <td>539.0</td>\n",
       "      <td>3149807.0</td>\n",
       "      <td>Africa</td>\n",
       "    </tr>\n",
       "  </tbody>\n",
       "</table>\n",
       "</div>"
      ],
      "text/plain": [
       "  Country/Region      Continent    Population  TotalCases  NewCases  \\\n",
       "0            USA  North America  3.311981e+08     5032179       NaN   \n",
       "1         Brazil  South America  2.127107e+08     2917562       NaN   \n",
       "2          India           Asia  1.381345e+09     2025409       NaN   \n",
       "3         Russia         Europe  1.459409e+08      871894       NaN   \n",
       "4   South Africa         Africa  5.938157e+07      538184       NaN   \n",
       "\n",
       "   TotalDeaths  NewDeaths  TotalRecovered  NewRecovered  ActiveCases  \\\n",
       "0     162804.0        NaN       2576668.0           NaN    2292707.0   \n",
       "1      98644.0        NaN       2047660.0           NaN     771258.0   \n",
       "2      41638.0        NaN       1377384.0           NaN     606387.0   \n",
       "3      14606.0        NaN        676357.0           NaN     180931.0   \n",
       "4       9604.0        NaN        387316.0           NaN     141264.0   \n",
       "\n",
       "   Serious,Critical  TotalTests      WHO Region  \n",
       "0           18296.0  63139605.0        Americas  \n",
       "1            8318.0  13206188.0        Americas  \n",
       "2            8944.0  22149351.0  South-EastAsia  \n",
       "3            2300.0  29716907.0          Europe  \n",
       "4             539.0   3149807.0          Africa  "
      ]
     },
     "execution_count": 8,
     "metadata": {},
     "output_type": "execute_result"
    }
   ],
   "source": [
    "data.head()"
   ]
  },
  {
   "cell_type": "markdown",
   "metadata": {},
   "source": [
    "### Converting NAN values to 0"
   ]
  },
  {
   "cell_type": "code",
   "execution_count": 9,
   "metadata": {},
   "outputs": [],
   "source": [
    "data['NewCases']=data['NewCases'].fillna(0)"
   ]
  },
  {
   "cell_type": "code",
   "execution_count": 10,
   "metadata": {},
   "outputs": [],
   "source": [
    "data['NewRecovered']=data['NewRecovered'].fillna(0)"
   ]
  },
  {
   "cell_type": "code",
   "execution_count": 11,
   "metadata": {},
   "outputs": [],
   "source": [
    "data['NewDeaths']=data['NewDeaths'].fillna(0)"
   ]
  },
  {
   "cell_type": "code",
   "execution_count": 12,
   "metadata": {},
   "outputs": [
    {
     "data": {
      "text/html": [
       "<div>\n",
       "<style scoped>\n",
       "    .dataframe tbody tr th:only-of-type {\n",
       "        vertical-align: middle;\n",
       "    }\n",
       "\n",
       "    .dataframe tbody tr th {\n",
       "        vertical-align: top;\n",
       "    }\n",
       "\n",
       "    .dataframe thead th {\n",
       "        text-align: right;\n",
       "    }\n",
       "</style>\n",
       "<table border=\"1\" class=\"dataframe\">\n",
       "  <thead>\n",
       "    <tr style=\"text-align: right;\">\n",
       "      <th></th>\n",
       "      <th>Country/Region</th>\n",
       "      <th>Continent</th>\n",
       "      <th>Population</th>\n",
       "      <th>TotalCases</th>\n",
       "      <th>NewCases</th>\n",
       "      <th>TotalDeaths</th>\n",
       "      <th>NewDeaths</th>\n",
       "      <th>TotalRecovered</th>\n",
       "      <th>NewRecovered</th>\n",
       "      <th>ActiveCases</th>\n",
       "      <th>Serious,Critical</th>\n",
       "      <th>TotalTests</th>\n",
       "      <th>WHO Region</th>\n",
       "    </tr>\n",
       "  </thead>\n",
       "  <tbody>\n",
       "    <tr>\n",
       "      <th>0</th>\n",
       "      <td>USA</td>\n",
       "      <td>North America</td>\n",
       "      <td>3.311981e+08</td>\n",
       "      <td>5032179</td>\n",
       "      <td>0.0</td>\n",
       "      <td>162804.0</td>\n",
       "      <td>0.0</td>\n",
       "      <td>2576668.0</td>\n",
       "      <td>0.0</td>\n",
       "      <td>2292707.0</td>\n",
       "      <td>18296.0</td>\n",
       "      <td>63139605.0</td>\n",
       "      <td>Americas</td>\n",
       "    </tr>\n",
       "    <tr>\n",
       "      <th>1</th>\n",
       "      <td>Brazil</td>\n",
       "      <td>South America</td>\n",
       "      <td>2.127107e+08</td>\n",
       "      <td>2917562</td>\n",
       "      <td>0.0</td>\n",
       "      <td>98644.0</td>\n",
       "      <td>0.0</td>\n",
       "      <td>2047660.0</td>\n",
       "      <td>0.0</td>\n",
       "      <td>771258.0</td>\n",
       "      <td>8318.0</td>\n",
       "      <td>13206188.0</td>\n",
       "      <td>Americas</td>\n",
       "    </tr>\n",
       "    <tr>\n",
       "      <th>2</th>\n",
       "      <td>India</td>\n",
       "      <td>Asia</td>\n",
       "      <td>1.381345e+09</td>\n",
       "      <td>2025409</td>\n",
       "      <td>0.0</td>\n",
       "      <td>41638.0</td>\n",
       "      <td>0.0</td>\n",
       "      <td>1377384.0</td>\n",
       "      <td>0.0</td>\n",
       "      <td>606387.0</td>\n",
       "      <td>8944.0</td>\n",
       "      <td>22149351.0</td>\n",
       "      <td>South-EastAsia</td>\n",
       "    </tr>\n",
       "    <tr>\n",
       "      <th>3</th>\n",
       "      <td>Russia</td>\n",
       "      <td>Europe</td>\n",
       "      <td>1.459409e+08</td>\n",
       "      <td>871894</td>\n",
       "      <td>0.0</td>\n",
       "      <td>14606.0</td>\n",
       "      <td>0.0</td>\n",
       "      <td>676357.0</td>\n",
       "      <td>0.0</td>\n",
       "      <td>180931.0</td>\n",
       "      <td>2300.0</td>\n",
       "      <td>29716907.0</td>\n",
       "      <td>Europe</td>\n",
       "    </tr>\n",
       "    <tr>\n",
       "      <th>4</th>\n",
       "      <td>South Africa</td>\n",
       "      <td>Africa</td>\n",
       "      <td>5.938157e+07</td>\n",
       "      <td>538184</td>\n",
       "      <td>0.0</td>\n",
       "      <td>9604.0</td>\n",
       "      <td>0.0</td>\n",
       "      <td>387316.0</td>\n",
       "      <td>0.0</td>\n",
       "      <td>141264.0</td>\n",
       "      <td>539.0</td>\n",
       "      <td>3149807.0</td>\n",
       "      <td>Africa</td>\n",
       "    </tr>\n",
       "  </tbody>\n",
       "</table>\n",
       "</div>"
      ],
      "text/plain": [
       "  Country/Region      Continent    Population  TotalCases  NewCases  \\\n",
       "0            USA  North America  3.311981e+08     5032179       0.0   \n",
       "1         Brazil  South America  2.127107e+08     2917562       0.0   \n",
       "2          India           Asia  1.381345e+09     2025409       0.0   \n",
       "3         Russia         Europe  1.459409e+08      871894       0.0   \n",
       "4   South Africa         Africa  5.938157e+07      538184       0.0   \n",
       "\n",
       "   TotalDeaths  NewDeaths  TotalRecovered  NewRecovered  ActiveCases  \\\n",
       "0     162804.0        0.0       2576668.0           0.0    2292707.0   \n",
       "1      98644.0        0.0       2047660.0           0.0     771258.0   \n",
       "2      41638.0        0.0       1377384.0           0.0     606387.0   \n",
       "3      14606.0        0.0        676357.0           0.0     180931.0   \n",
       "4       9604.0        0.0        387316.0           0.0     141264.0   \n",
       "\n",
       "   Serious,Critical  TotalTests      WHO Region  \n",
       "0           18296.0  63139605.0        Americas  \n",
       "1            8318.0  13206188.0        Americas  \n",
       "2            8944.0  22149351.0  South-EastAsia  \n",
       "3            2300.0  29716907.0          Europe  \n",
       "4             539.0   3149807.0          Africa  "
      ]
     },
     "execution_count": 12,
     "metadata": {},
     "output_type": "execute_result"
    }
   ],
   "source": [
    "data.head()"
   ]
  },
  {
   "cell_type": "markdown",
   "metadata": {},
   "source": [
    "### Combining Relavant Columns To get updated dataset"
   ]
  },
  {
   "cell_type": "code",
   "execution_count": 13,
   "metadata": {},
   "outputs": [],
   "source": [
    "data['updatesTotalCases']=data['TotalCases']+data['NewCases']"
   ]
  },
  {
   "cell_type": "code",
   "execution_count": 14,
   "metadata": {},
   "outputs": [],
   "source": [
    "data['updatesTotalDeaths']=data['TotalDeaths']+data['NewDeaths']"
   ]
  },
  {
   "cell_type": "code",
   "execution_count": 15,
   "metadata": {},
   "outputs": [],
   "source": [
    "data['updatesTotalRecovered']=data['TotalRecovered']+data['NewRecovered']"
   ]
  },
  {
   "cell_type": "code",
   "execution_count": 16,
   "metadata": {},
   "outputs": [
    {
     "data": {
      "text/html": [
       "<div>\n",
       "<style scoped>\n",
       "    .dataframe tbody tr th:only-of-type {\n",
       "        vertical-align: middle;\n",
       "    }\n",
       "\n",
       "    .dataframe tbody tr th {\n",
       "        vertical-align: top;\n",
       "    }\n",
       "\n",
       "    .dataframe thead th {\n",
       "        text-align: right;\n",
       "    }\n",
       "</style>\n",
       "<table border=\"1\" class=\"dataframe\">\n",
       "  <thead>\n",
       "    <tr style=\"text-align: right;\">\n",
       "      <th></th>\n",
       "      <th>Country/Region</th>\n",
       "      <th>Continent</th>\n",
       "      <th>Population</th>\n",
       "      <th>TotalCases</th>\n",
       "      <th>NewCases</th>\n",
       "      <th>TotalDeaths</th>\n",
       "      <th>NewDeaths</th>\n",
       "      <th>TotalRecovered</th>\n",
       "      <th>NewRecovered</th>\n",
       "      <th>ActiveCases</th>\n",
       "      <th>Serious,Critical</th>\n",
       "      <th>TotalTests</th>\n",
       "      <th>WHO Region</th>\n",
       "      <th>updatesTotalCases</th>\n",
       "      <th>updatesTotalDeaths</th>\n",
       "      <th>updatesTotalRecovered</th>\n",
       "    </tr>\n",
       "  </thead>\n",
       "  <tbody>\n",
       "    <tr>\n",
       "      <th>0</th>\n",
       "      <td>USA</td>\n",
       "      <td>North America</td>\n",
       "      <td>3.311981e+08</td>\n",
       "      <td>5032179</td>\n",
       "      <td>0.0</td>\n",
       "      <td>162804.0</td>\n",
       "      <td>0.0</td>\n",
       "      <td>2576668.0</td>\n",
       "      <td>0.0</td>\n",
       "      <td>2292707.0</td>\n",
       "      <td>18296.0</td>\n",
       "      <td>63139605.0</td>\n",
       "      <td>Americas</td>\n",
       "      <td>5032179.0</td>\n",
       "      <td>162804.0</td>\n",
       "      <td>2576668.0</td>\n",
       "    </tr>\n",
       "    <tr>\n",
       "      <th>1</th>\n",
       "      <td>Brazil</td>\n",
       "      <td>South America</td>\n",
       "      <td>2.127107e+08</td>\n",
       "      <td>2917562</td>\n",
       "      <td>0.0</td>\n",
       "      <td>98644.0</td>\n",
       "      <td>0.0</td>\n",
       "      <td>2047660.0</td>\n",
       "      <td>0.0</td>\n",
       "      <td>771258.0</td>\n",
       "      <td>8318.0</td>\n",
       "      <td>13206188.0</td>\n",
       "      <td>Americas</td>\n",
       "      <td>2917562.0</td>\n",
       "      <td>98644.0</td>\n",
       "      <td>2047660.0</td>\n",
       "    </tr>\n",
       "    <tr>\n",
       "      <th>2</th>\n",
       "      <td>India</td>\n",
       "      <td>Asia</td>\n",
       "      <td>1.381345e+09</td>\n",
       "      <td>2025409</td>\n",
       "      <td>0.0</td>\n",
       "      <td>41638.0</td>\n",
       "      <td>0.0</td>\n",
       "      <td>1377384.0</td>\n",
       "      <td>0.0</td>\n",
       "      <td>606387.0</td>\n",
       "      <td>8944.0</td>\n",
       "      <td>22149351.0</td>\n",
       "      <td>South-EastAsia</td>\n",
       "      <td>2025409.0</td>\n",
       "      <td>41638.0</td>\n",
       "      <td>1377384.0</td>\n",
       "    </tr>\n",
       "    <tr>\n",
       "      <th>3</th>\n",
       "      <td>Russia</td>\n",
       "      <td>Europe</td>\n",
       "      <td>1.459409e+08</td>\n",
       "      <td>871894</td>\n",
       "      <td>0.0</td>\n",
       "      <td>14606.0</td>\n",
       "      <td>0.0</td>\n",
       "      <td>676357.0</td>\n",
       "      <td>0.0</td>\n",
       "      <td>180931.0</td>\n",
       "      <td>2300.0</td>\n",
       "      <td>29716907.0</td>\n",
       "      <td>Europe</td>\n",
       "      <td>871894.0</td>\n",
       "      <td>14606.0</td>\n",
       "      <td>676357.0</td>\n",
       "    </tr>\n",
       "    <tr>\n",
       "      <th>4</th>\n",
       "      <td>South Africa</td>\n",
       "      <td>Africa</td>\n",
       "      <td>5.938157e+07</td>\n",
       "      <td>538184</td>\n",
       "      <td>0.0</td>\n",
       "      <td>9604.0</td>\n",
       "      <td>0.0</td>\n",
       "      <td>387316.0</td>\n",
       "      <td>0.0</td>\n",
       "      <td>141264.0</td>\n",
       "      <td>539.0</td>\n",
       "      <td>3149807.0</td>\n",
       "      <td>Africa</td>\n",
       "      <td>538184.0</td>\n",
       "      <td>9604.0</td>\n",
       "      <td>387316.0</td>\n",
       "    </tr>\n",
       "  </tbody>\n",
       "</table>\n",
       "</div>"
      ],
      "text/plain": [
       "  Country/Region      Continent    Population  TotalCases  NewCases  \\\n",
       "0            USA  North America  3.311981e+08     5032179       0.0   \n",
       "1         Brazil  South America  2.127107e+08     2917562       0.0   \n",
       "2          India           Asia  1.381345e+09     2025409       0.0   \n",
       "3         Russia         Europe  1.459409e+08      871894       0.0   \n",
       "4   South Africa         Africa  5.938157e+07      538184       0.0   \n",
       "\n",
       "   TotalDeaths  NewDeaths  TotalRecovered  NewRecovered  ActiveCases  \\\n",
       "0     162804.0        0.0       2576668.0           0.0    2292707.0   \n",
       "1      98644.0        0.0       2047660.0           0.0     771258.0   \n",
       "2      41638.0        0.0       1377384.0           0.0     606387.0   \n",
       "3      14606.0        0.0        676357.0           0.0     180931.0   \n",
       "4       9604.0        0.0        387316.0           0.0     141264.0   \n",
       "\n",
       "   Serious,Critical  TotalTests      WHO Region  updatesTotalCases  \\\n",
       "0           18296.0  63139605.0        Americas          5032179.0   \n",
       "1            8318.0  13206188.0        Americas          2917562.0   \n",
       "2            8944.0  22149351.0  South-EastAsia          2025409.0   \n",
       "3            2300.0  29716907.0          Europe           871894.0   \n",
       "4             539.0   3149807.0          Africa           538184.0   \n",
       "\n",
       "   updatesTotalDeaths  updatesTotalRecovered  \n",
       "0            162804.0              2576668.0  \n",
       "1             98644.0              2047660.0  \n",
       "2             41638.0              1377384.0  \n",
       "3             14606.0               676357.0  \n",
       "4              9604.0               387316.0  "
      ]
     },
     "execution_count": 16,
     "metadata": {},
     "output_type": "execute_result"
    }
   ],
   "source": [
    "data.head()"
   ]
  },
  {
   "cell_type": "markdown",
   "metadata": {},
   "source": [
    "### Dropping Columns which are not required"
   ]
  },
  {
   "cell_type": "code",
   "execution_count": 17,
   "metadata": {},
   "outputs": [],
   "source": [
    "data.drop(columns=['TotalCases','NewCases','TotalDeaths','NewDeaths','TotalRecovered','NewRecovered'],axis=1,inplace=True)"
   ]
  },
  {
   "cell_type": "code",
   "execution_count": 18,
   "metadata": {},
   "outputs": [
    {
     "data": {
      "text/html": [
       "<div>\n",
       "<style scoped>\n",
       "    .dataframe tbody tr th:only-of-type {\n",
       "        vertical-align: middle;\n",
       "    }\n",
       "\n",
       "    .dataframe tbody tr th {\n",
       "        vertical-align: top;\n",
       "    }\n",
       "\n",
       "    .dataframe thead th {\n",
       "        text-align: right;\n",
       "    }\n",
       "</style>\n",
       "<table border=\"1\" class=\"dataframe\">\n",
       "  <thead>\n",
       "    <tr style=\"text-align: right;\">\n",
       "      <th></th>\n",
       "      <th>Country/Region</th>\n",
       "      <th>Continent</th>\n",
       "      <th>Population</th>\n",
       "      <th>ActiveCases</th>\n",
       "      <th>Serious,Critical</th>\n",
       "      <th>TotalTests</th>\n",
       "      <th>WHO Region</th>\n",
       "      <th>updatesTotalCases</th>\n",
       "      <th>updatesTotalDeaths</th>\n",
       "      <th>updatesTotalRecovered</th>\n",
       "    </tr>\n",
       "  </thead>\n",
       "  <tbody>\n",
       "    <tr>\n",
       "      <th>0</th>\n",
       "      <td>USA</td>\n",
       "      <td>North America</td>\n",
       "      <td>3.311981e+08</td>\n",
       "      <td>2292707.0</td>\n",
       "      <td>18296.0</td>\n",
       "      <td>63139605.0</td>\n",
       "      <td>Americas</td>\n",
       "      <td>5032179.0</td>\n",
       "      <td>162804.0</td>\n",
       "      <td>2576668.0</td>\n",
       "    </tr>\n",
       "    <tr>\n",
       "      <th>1</th>\n",
       "      <td>Brazil</td>\n",
       "      <td>South America</td>\n",
       "      <td>2.127107e+08</td>\n",
       "      <td>771258.0</td>\n",
       "      <td>8318.0</td>\n",
       "      <td>13206188.0</td>\n",
       "      <td>Americas</td>\n",
       "      <td>2917562.0</td>\n",
       "      <td>98644.0</td>\n",
       "      <td>2047660.0</td>\n",
       "    </tr>\n",
       "    <tr>\n",
       "      <th>2</th>\n",
       "      <td>India</td>\n",
       "      <td>Asia</td>\n",
       "      <td>1.381345e+09</td>\n",
       "      <td>606387.0</td>\n",
       "      <td>8944.0</td>\n",
       "      <td>22149351.0</td>\n",
       "      <td>South-EastAsia</td>\n",
       "      <td>2025409.0</td>\n",
       "      <td>41638.0</td>\n",
       "      <td>1377384.0</td>\n",
       "    </tr>\n",
       "    <tr>\n",
       "      <th>3</th>\n",
       "      <td>Russia</td>\n",
       "      <td>Europe</td>\n",
       "      <td>1.459409e+08</td>\n",
       "      <td>180931.0</td>\n",
       "      <td>2300.0</td>\n",
       "      <td>29716907.0</td>\n",
       "      <td>Europe</td>\n",
       "      <td>871894.0</td>\n",
       "      <td>14606.0</td>\n",
       "      <td>676357.0</td>\n",
       "    </tr>\n",
       "    <tr>\n",
       "      <th>4</th>\n",
       "      <td>South Africa</td>\n",
       "      <td>Africa</td>\n",
       "      <td>5.938157e+07</td>\n",
       "      <td>141264.0</td>\n",
       "      <td>539.0</td>\n",
       "      <td>3149807.0</td>\n",
       "      <td>Africa</td>\n",
       "      <td>538184.0</td>\n",
       "      <td>9604.0</td>\n",
       "      <td>387316.0</td>\n",
       "    </tr>\n",
       "  </tbody>\n",
       "</table>\n",
       "</div>"
      ],
      "text/plain": [
       "  Country/Region      Continent    Population  ActiveCases  Serious,Critical  \\\n",
       "0            USA  North America  3.311981e+08    2292707.0           18296.0   \n",
       "1         Brazil  South America  2.127107e+08     771258.0            8318.0   \n",
       "2          India           Asia  1.381345e+09     606387.0            8944.0   \n",
       "3         Russia         Europe  1.459409e+08     180931.0            2300.0   \n",
       "4   South Africa         Africa  5.938157e+07     141264.0             539.0   \n",
       "\n",
       "   TotalTests      WHO Region  updatesTotalCases  updatesTotalDeaths  \\\n",
       "0  63139605.0        Americas          5032179.0            162804.0   \n",
       "1  13206188.0        Americas          2917562.0             98644.0   \n",
       "2  22149351.0  South-EastAsia          2025409.0             41638.0   \n",
       "3  29716907.0          Europe           871894.0             14606.0   \n",
       "4   3149807.0          Africa           538184.0              9604.0   \n",
       "\n",
       "   updatesTotalRecovered  \n",
       "0              2576668.0  \n",
       "1              2047660.0  \n",
       "2              1377384.0  \n",
       "3               676357.0  \n",
       "4               387316.0  "
      ]
     },
     "execution_count": 18,
     "metadata": {},
     "output_type": "execute_result"
    }
   ],
   "source": [
    "data.head()"
   ]
  },
  {
   "cell_type": "markdown",
   "metadata": {},
   "source": [
    "## USA V/s India"
   ]
  },
  {
   "cell_type": "code",
   "execution_count": 19,
   "metadata": {},
   "outputs": [],
   "source": [
    "a=data.loc[data['Country/Region']=='India']"
   ]
  },
  {
   "cell_type": "code",
   "execution_count": 20,
   "metadata": {},
   "outputs": [],
   "source": [
    "b=data.loc[data['Country/Region']=='USA']"
   ]
  },
  {
   "cell_type": "code",
   "execution_count": 24,
   "metadata": {},
   "outputs": [],
   "source": [
    "df = pd.DataFrame({'INDIA': [a['TotalTests'].sum(),a['updatesTotalCases'].sum()],\n",
    "                   'USA': [b['TotalTests'].sum(),b['updatesTotalCases'].sum()]},\n",
    "                  index=['Total Tested', 'Total Confirmed'])"
   ]
  },
  {
   "cell_type": "code",
   "execution_count": 25,
   "metadata": {},
   "outputs": [],
   "source": [
    "explode=[0.2,0]"
   ]
  },
  {
   "cell_type": "code",
   "execution_count": 26,
   "metadata": {},
   "outputs": [
    {
     "data": {
      "text/plain": [
       "<function matplotlib.pyplot.show(*args, **kw)>"
      ]
     },
     "execution_count": 26,
     "metadata": {},
     "output_type": "execute_result"
    },
    {
     "data": {
      "image/png": "[encoded data removed]",
      "text/plain": [
       "<Figure size 792x432 with 2 Axes>"
      ]
     },
     "metadata": {},
     "output_type": "display_data"
    }
   ],
   "source": [
    "df.plot.pie(subplots=True,figsize=(11, 6),shadow=True,explode=explode,startangle=180,autopct=\"%0.2f%%\",wedgeprops={'edgecolor':'black'})\n",
    "plt.title('Total Tested V/s Total Confirmed')\n",
    "plt.show"
   ]
  },
  {
   "cell_type": "markdown",
   "metadata": {},
   "source": [
    "<b>Observation<b>: More number of cases are confirmed in India as compared to USA"
   ]
  },
  {
   "cell_type": "code",
   "execution_count": 27,
   "metadata": {},
   "outputs": [],
   "source": [
    "a=data.head(3)"
   ]
  },
  {
   "cell_type": "markdown",
   "metadata": {},
   "source": [
    "## Bar Plot"
   ]
  },
  {
   "cell_type": "code",
   "execution_count": 28,
   "metadata": {},
   "outputs": [
    {
     "data": {
      "image/png": "[encoded data removed]",
      "text/plain": [
       "<Figure size 432x288 with 1 Axes>"
      ]
     },
     "metadata": {
      "needs_background": "light"
     },
     "output_type": "display_data"
    }
   ],
   "source": [
    "plt.bar(a['Country/Region'], a['ActiveCases'])\n",
    "plt.xlabel(\"Country\")\n",
    "plt.ylabel(\"Active Cases\")\n",
    "plt.title(\"Top 3 Countries\")\n",
    "plt.xticks(rotation='vertical')\n",
    "plt.show()"
   ]
  },
  {
   "cell_type": "markdown",
   "metadata": {},
   "source": [
    "<b>Observation<b>: USA has more number of active cases"
   ]
  },
  {
   "cell_type": "markdown",
   "metadata": {},
   "source": [
    "## Stack Plot"
   ]
  },
  {
   "cell_type": "code",
   "execution_count": 29,
   "metadata": {},
   "outputs": [
    {
     "data": {
      "text/html": [
       "<div>\n",
       "<style scoped>\n",
       "    .dataframe tbody tr th:only-of-type {\n",
       "        vertical-align: middle;\n",
       "    }\n",
       "\n",
       "    .dataframe tbody tr th {\n",
       "        vertical-align: top;\n",
       "    }\n",
       "\n",
       "    .dataframe thead th {\n",
       "        text-align: right;\n",
       "    }\n",
       "</style>\n",
       "<table border=\"1\" class=\"dataframe\">\n",
       "  <thead>\n",
       "    <tr style=\"text-align: right;\">\n",
       "      <th></th>\n",
       "      <th>Country/Region</th>\n",
       "      <th>Continent</th>\n",
       "      <th>Population</th>\n",
       "      <th>ActiveCases</th>\n",
       "      <th>Serious,Critical</th>\n",
       "      <th>TotalTests</th>\n",
       "      <th>WHO Region</th>\n",
       "      <th>updatesTotalCases</th>\n",
       "      <th>updatesTotalDeaths</th>\n",
       "      <th>updatesTotalRecovered</th>\n",
       "    </tr>\n",
       "  </thead>\n",
       "  <tbody>\n",
       "    <tr>\n",
       "      <th>2</th>\n",
       "      <td>India</td>\n",
       "      <td>Asia</td>\n",
       "      <td>1.381345e+09</td>\n",
       "      <td>606387.0</td>\n",
       "      <td>8944.0</td>\n",
       "      <td>22149351.0</td>\n",
       "      <td>South-EastAsia</td>\n",
       "      <td>2025409.0</td>\n",
       "      <td>41638.0</td>\n",
       "      <td>1377384.0</td>\n",
       "    </tr>\n",
       "    <tr>\n",
       "      <th>0</th>\n",
       "      <td>USA</td>\n",
       "      <td>North America</td>\n",
       "      <td>3.311981e+08</td>\n",
       "      <td>2292707.0</td>\n",
       "      <td>18296.0</td>\n",
       "      <td>63139605.0</td>\n",
       "      <td>Americas</td>\n",
       "      <td>5032179.0</td>\n",
       "      <td>162804.0</td>\n",
       "      <td>2576668.0</td>\n",
       "    </tr>\n",
       "    <tr>\n",
       "      <th>22</th>\n",
       "      <td>Indonesia</td>\n",
       "      <td>Asia</td>\n",
       "      <td>2.738084e+08</td>\n",
       "      <td>37587.0</td>\n",
       "      <td>NaN</td>\n",
       "      <td>1633156.0</td>\n",
       "      <td>South-EastAsia</td>\n",
       "      <td>118753.0</td>\n",
       "      <td>5521.0</td>\n",
       "      <td>75645.0</td>\n",
       "    </tr>\n",
       "    <tr>\n",
       "      <th>13</th>\n",
       "      <td>Pakistan</td>\n",
       "      <td>Asia</td>\n",
       "      <td>2.212959e+08</td>\n",
       "      <td>19770.0</td>\n",
       "      <td>809.0</td>\n",
       "      <td>2058872.0</td>\n",
       "      <td>EasternMediterranean</td>\n",
       "      <td>281863.0</td>\n",
       "      <td>6035.0</td>\n",
       "      <td>256058.0</td>\n",
       "    </tr>\n",
       "    <tr>\n",
       "      <th>1</th>\n",
       "      <td>Brazil</td>\n",
       "      <td>South America</td>\n",
       "      <td>2.127107e+08</td>\n",
       "      <td>771258.0</td>\n",
       "      <td>8318.0</td>\n",
       "      <td>13206188.0</td>\n",
       "      <td>Americas</td>\n",
       "      <td>2917562.0</td>\n",
       "      <td>98644.0</td>\n",
       "      <td>2047660.0</td>\n",
       "    </tr>\n",
       "  </tbody>\n",
       "</table>\n",
       "</div>"
      ],
      "text/plain": [
       "   Country/Region      Continent    Population  ActiveCases  Serious,Critical  \\\n",
       "2           India           Asia  1.381345e+09     606387.0            8944.0   \n",
       "0             USA  North America  3.311981e+08    2292707.0           18296.0   \n",
       "22      Indonesia           Asia  2.738084e+08      37587.0               NaN   \n",
       "13       Pakistan           Asia  2.212959e+08      19770.0             809.0   \n",
       "1          Brazil  South America  2.127107e+08     771258.0            8318.0   \n",
       "\n",
       "    TotalTests            WHO Region  updatesTotalCases  updatesTotalDeaths  \\\n",
       "2   22149351.0        South-EastAsia          2025409.0             41638.0   \n",
       "0   63139605.0              Americas          5032179.0            162804.0   \n",
       "22   1633156.0        South-EastAsia           118753.0              5521.0   \n",
       "13   2058872.0  EasternMediterranean           281863.0              6035.0   \n",
       "1   13206188.0              Americas          2917562.0             98644.0   \n",
       "\n",
       "    updatesTotalRecovered  \n",
       "2               1377384.0  \n",
       "0               2576668.0  \n",
       "22                75645.0  \n",
       "13               256058.0  \n",
       "1               2047660.0  "
      ]
     },
     "execution_count": 29,
     "metadata": {},
     "output_type": "execute_result"
    }
   ],
   "source": [
    "total_population=data.sort_values(by='Population',ascending=False)\n",
    "ts1=total_population.head()\n",
    "a1=ts1['Country/Region']\n",
    "a2=ts1['TotalTests']\n",
    "a3=ts1['updatesTotalCases']\n",
    "a4=ts1['updatesTotalRecovered']\n",
    "a5=ts1['updatesTotalDeaths']\n",
    "label=[\"tested\",\"confirmed\",\"recovered\",\"deaths\"]\n",
    "ts1"
   ]
  },
  {
   "cell_type": "code",
   "execution_count": 30,
   "metadata": {},
   "outputs": [
    {
     "data": {
      "image/png": "[encoded data removed]",
      "text/plain": [
       "<Figure size 432x288 with 1 Axes>"
      ]
     },
     "metadata": {
      "needs_background": "light"
     },
     "output_type": "display_data"
    }
   ],
   "source": [
    "plt.stackplot(a1,a2,a3,a4,a5,labels=label)\n",
    "plt.title(\"Stack Plot\")\n",
    "plt.xlabel(\"Country\")\n",
    "plt.title(\"Top 5 countries by population\")\n",
    "plt.legend(loc=\"upper center\")\n",
    "plt.show()"
   ]
  },
  {
   "cell_type": "markdown",
   "metadata": {},
   "source": [
    "<b>Observation<b>: USA has the highest cases in all fields as compared to all other top countires with highest population in the world which is then followed by India."
   ]
  },
  {
   "cell_type": "code",
   "execution_count": 31,
   "metadata": {},
   "outputs": [
    {
     "data": {
      "text/html": [
       "<div>\n",
       "<style scoped>\n",
       "    .dataframe tbody tr th:only-of-type {\n",
       "        vertical-align: middle;\n",
       "    }\n",
       "\n",
       "    .dataframe tbody tr th {\n",
       "        vertical-align: top;\n",
       "    }\n",
       "\n",
       "    .dataframe thead th {\n",
       "        text-align: right;\n",
       "    }\n",
       "</style>\n",
       "<table border=\"1\" class=\"dataframe\">\n",
       "  <thead>\n",
       "    <tr style=\"text-align: right;\">\n",
       "      <th></th>\n",
       "      <th>Country/Region</th>\n",
       "      <th>Continent</th>\n",
       "      <th>Population</th>\n",
       "      <th>ActiveCases</th>\n",
       "      <th>Serious,Critical</th>\n",
       "      <th>TotalTests</th>\n",
       "      <th>WHO Region</th>\n",
       "      <th>updatesTotalCases</th>\n",
       "      <th>updatesTotalDeaths</th>\n",
       "      <th>updatesTotalRecovered</th>\n",
       "    </tr>\n",
       "  </thead>\n",
       "  <tbody>\n",
       "    <tr>\n",
       "      <th>207</th>\n",
       "      <td>Vatican City</td>\n",
       "      <td>Europe</td>\n",
       "      <td>801.0</td>\n",
       "      <td>0.0</td>\n",
       "      <td>NaN</td>\n",
       "      <td>NaN</td>\n",
       "      <td>Europe</td>\n",
       "      <td>12.0</td>\n",
       "      <td>NaN</td>\n",
       "      <td>12.0</td>\n",
       "    </tr>\n",
       "    <tr>\n",
       "      <th>206</th>\n",
       "      <td>Falkland Islands</td>\n",
       "      <td>South America</td>\n",
       "      <td>3489.0</td>\n",
       "      <td>0.0</td>\n",
       "      <td>NaN</td>\n",
       "      <td>1816.0</td>\n",
       "      <td>NaN</td>\n",
       "      <td>13.0</td>\n",
       "      <td>NaN</td>\n",
       "      <td>13.0</td>\n",
       "    </tr>\n",
       "    <tr>\n",
       "      <th>204</th>\n",
       "      <td>Montserrat</td>\n",
       "      <td>North America</td>\n",
       "      <td>4992.0</td>\n",
       "      <td>2.0</td>\n",
       "      <td>NaN</td>\n",
       "      <td>61.0</td>\n",
       "      <td>NaN</td>\n",
       "      <td>13.0</td>\n",
       "      <td>1.0</td>\n",
       "      <td>10.0</td>\n",
       "    </tr>\n",
       "    <tr>\n",
       "      <th>205</th>\n",
       "      <td>Caribbean Netherlands</td>\n",
       "      <td>North America</td>\n",
       "      <td>26247.0</td>\n",
       "      <td>6.0</td>\n",
       "      <td>NaN</td>\n",
       "      <td>424.0</td>\n",
       "      <td>NaN</td>\n",
       "      <td>13.0</td>\n",
       "      <td>NaN</td>\n",
       "      <td>7.0</td>\n",
       "    </tr>\n",
       "    <tr>\n",
       "      <th>177</th>\n",
       "      <td>Gibraltar</td>\n",
       "      <td>Europe</td>\n",
       "      <td>33690.0</td>\n",
       "      <td>6.0</td>\n",
       "      <td>NaN</td>\n",
       "      <td>23063.0</td>\n",
       "      <td>NaN</td>\n",
       "      <td>190.0</td>\n",
       "      <td>NaN</td>\n",
       "      <td>184.0</td>\n",
       "    </tr>\n",
       "  </tbody>\n",
       "</table>\n",
       "</div>"
      ],
      "text/plain": [
       "            Country/Region      Continent  Population  ActiveCases  \\\n",
       "207           Vatican City         Europe       801.0          0.0   \n",
       "206       Falkland Islands  South America      3489.0          0.0   \n",
       "204             Montserrat  North America      4992.0          2.0   \n",
       "205  Caribbean Netherlands  North America     26247.0          6.0   \n",
       "177              Gibraltar         Europe     33690.0          6.0   \n",
       "\n",
       "     Serious,Critical  TotalTests WHO Region  updatesTotalCases  \\\n",
       "207               NaN         NaN     Europe               12.0   \n",
       "206               NaN      1816.0        NaN               13.0   \n",
       "204               NaN        61.0        NaN               13.0   \n",
       "205               NaN       424.0        NaN               13.0   \n",
       "177               NaN     23063.0        NaN              190.0   \n",
       "\n",
       "     updatesTotalDeaths  updatesTotalRecovered  \n",
       "207                 NaN                   12.0  \n",
       "206                 NaN                   13.0  \n",
       "204                 1.0                   10.0  \n",
       "205                 NaN                    7.0  \n",
       "177                 NaN                  184.0  "
      ]
     },
     "execution_count": 31,
     "metadata": {},
     "output_type": "execute_result"
    }
   ],
   "source": [
    "total_population=data.sort_values(by='Population',ascending=True)\n",
    "ts1=total_population.head()\n",
    "a1=ts1['Country/Region']\n",
    "a2=ts1['TotalTests']\n",
    "a3=ts1['updatesTotalCases']\n",
    "a4=ts1['updatesTotalRecovered']\n",
    "a5=ts1['updatesTotalDeaths']\n",
    "label=[\"tested\",\"confirmed\",\"recovered\",\"deaths\"]\n",
    "ts1"
   ]
  },
  {
   "cell_type": "code",
   "execution_count": 32,
   "metadata": {},
   "outputs": [
    {
     "data": {
      "image/png": "[encoded data removed]",
      "text/plain": [
       "<Figure size 432x288 with 1 Axes>"
      ]
     },
     "metadata": {
      "needs_background": "light"
     },
     "output_type": "display_data"
    }
   ],
   "source": [
    "plt.stackplot(a1,a3,a4,a5,labels=label)\n",
    "plt.title(\"Stack Plot\")\n",
    "plt.legend(loc=\"upper center\")\n",
    "plt.xticks(rotation='vertical')\n",
    "plt.show()"
   ]
  },
  {
   "cell_type": "markdown",
   "metadata": {},
   "source": [
    "<b>Observation<b>: Vatican City has the lowest cases in all fields as compared to all other countires in the world. There are almost no death in these countires with least population."
   ]
  },
  {
   "cell_type": "markdown",
   "metadata": {},
   "source": [
    "## Plot Fill"
   ]
  },
  {
   "cell_type": "code",
   "execution_count": 33,
   "metadata": {},
   "outputs": [
    {
     "data": {
      "text/plain": [
       "0    North America\n",
       "1    South America\n",
       "2             Asia\n",
       "3           Europe\n",
       "4           Africa\n",
       "Name: Continent, dtype: object"
      ]
     },
     "execution_count": 33,
     "metadata": {},
     "output_type": "execute_result"
    }
   ],
   "source": [
    "a=data.head(5)\n",
    "b=a['Continent']\n",
    "b"
   ]
  },
  {
   "cell_type": "code",
   "execution_count": 34,
   "metadata": {},
   "outputs": [],
   "source": [
    "c=data.loc[data['Continent']=='Asia']\n",
    "d=c['ActiveCases'].sum()\n",
    "d1=c['updatesTotalCases'].sum()\n",
    "d2=c['updatesTotalRecovered'].sum()\n",
    "d3=c['updatesTotalDeaths'].sum()"
   ]
  },
  {
   "cell_type": "code",
   "execution_count": 35,
   "metadata": {},
   "outputs": [],
   "source": [
    "q=data.loc[data['Continent']=='North America']\n",
    "e=q['ActiveCases'].sum()\n",
    "e1=q['updatesTotalCases'].sum()\n",
    "e2=q['updatesTotalRecovered'].sum()\n",
    "e3=q['updatesTotalDeaths'].sum()"
   ]
  },
  {
   "cell_type": "code",
   "execution_count": 36,
   "metadata": {},
   "outputs": [],
   "source": [
    "z=data.loc[data['Continent']=='South America']\n",
    "x=z['ActiveCases'].sum()\n",
    "x1=z['updatesTotalCases'].sum()\n",
    "x2=z['updatesTotalRecovered'].sum()\n",
    "x3=z['updatesTotalDeaths'].sum()"
   ]
  },
  {
   "cell_type": "code",
   "execution_count": 37,
   "metadata": {},
   "outputs": [],
   "source": [
    "v=data.loc[data['Continent']=='Africa']\n",
    "b=v['ActiveCases'].sum()\n",
    "b1=v['updatesTotalCases'].sum()\n",
    "b2=v['updatesTotalRecovered'].sum()\n",
    "b3=v['updatesTotalDeaths'].sum()"
   ]
  },
  {
   "cell_type": "code",
   "execution_count": 38,
   "metadata": {},
   "outputs": [],
   "source": [
    "r=data.loc[data['Continent']=='Europe']\n",
    "t=r['ActiveCases'].sum()\n",
    "t1=r['updatesTotalCases'].sum()\n",
    "t2=r['updatesTotalRecovered'].sum()\n",
    "t3=r['updatesTotalDeaths'].sum()"
   ]
  },
  {
   "cell_type": "code",
   "execution_count": 39,
   "metadata": {},
   "outputs": [
    {
     "data": {
      "image/png": "[encoded data removed]",
      "text/plain": [
       "<Figure size 432x288 with 1 Axes>"
      ]
     },
     "metadata": {
      "needs_background": "light"
     },
     "output_type": "display_data"
    }
   ],
   "source": [
    "df1=pd.DataFrame({'State':['North America','South America','Asia','Europe', 'Africa'],\n",
    "                  'Active Cases':[e,x,d,t,b],'Total Cases':[e1,x1,d1,t1,b1],\n",
    "                  'Total Recovered':[e2,x2,d2,t2,b2],'Total Deaths':[e3,x3,d3,t3,b3]})\n",
    "ov=(df1['Total Cases'].sum()/5)\n",
    "plt.plot(df1['State'], df1['Total Cases'], label = \"Total Confirmed\")\n",
    "plt.plot(df1['State'], df1['Active Cases'], label = \"Total Active\")\n",
    "plt.plot(df1['State'], df1['Total Recovered'], linestyle = \"dashed\",label=\"Recovered\")\n",
    "plt.plot(df1['State'], df1['Total Deaths'], label = \"Total Deaths\")\n",
    "plt.fill_between(df1['State'],df1['Total Cases'],ov, where=(df1['Total Cases'] > ov),label=\"Above Average Confirmed\",interpolate=True, alpha = 0.25)\n",
    "plt.fill_between(df1['State'],df1['Total Cases'],ov, where=(df1['Total Cases'] <= ov), interpolate=True, color=\"green\",label=\"Below Average Confirmed\", alpha = 0.25)\n",
    "plt.xlabel(\"Continent\")\n",
    "plt.ylabel(\"Cases\")\n",
    "plt.title(\"Covid 19 Cases\")\n",
    "plt.legend(bbox_to_anchor=(1.1,1.05))\n",
    "plt.show()"
   ]
  },
  {
   "cell_type": "markdown",
   "metadata": {},
   "source": [
    "## Histogram For Critical Cases"
   ]
  },
  {
   "cell_type": "code",
   "execution_count": 40,
   "metadata": {},
   "outputs": [
    {
     "data": {
      "text/plain": [
       "<function matplotlib.pyplot.show(*args, **kw)>"
      ]
     },
     "execution_count": 40,
     "metadata": {},
     "output_type": "execute_result"
    },
    {
     "data": {
      "image/png": "[encoded data removed]",
      "text/plain": [
       "<Figure size 432x288 with 1 Axes>"
      ]
     },
     "metadata": {
      "needs_background": "light"
     },
     "output_type": "display_data"
    }
   ],
   "source": [
    "plt.hist(data['Serious,Critical'],log=True,edgecolor='black')\n",
    "plt.show"
   ]
  },
  {
   "cell_type": "markdown",
   "metadata": {},
   "source": [
    "<b>Observation<b>: There are more number of critical cases between 0 to 2300"
   ]
  },
  {
   "cell_type": "markdown",
   "metadata": {},
   "source": [
    "## Scatter Plot"
   ]
  },
  {
   "cell_type": "code",
   "execution_count": 41,
   "metadata": {},
   "outputs": [
    {
     "data": {
      "image/png": "[encoded data removed]",
      "text/plain": [
       "<Figure size 432x288 with 2 Axes>"
      ]
     },
     "metadata": {
      "needs_background": "light"
     },
     "output_type": "display_data"
    }
   ],
   "source": [
    "plt.scatter(data['Population'],data['TotalTests'], edgecolors='black',c=data['updatesTotalCases'],cmap='Greens',linewidths=2, alpha=0.75)\n",
    "cbar=plt.colorbar()\n",
    "cbar.set_label(\"confirmed Cases\")\n",
    "plt.xscale('log')\n",
    "plt.yscale('log')\n",
    "plt.xlabel(\"Population\")\n",
    "plt.ylabel(\"Total Tested\")\n",
    "plt.title(\"Population V/S Tested\")\n",
    "plt.show()"
   ]
  },
  {
   "cell_type": "markdown",
   "metadata": {},
   "source": [
    "<b>Observation<b>: Between 1000000 to 100000000 population more number of cases are confirmed"
   ]
  },
  {
   "cell_type": "markdown",
   "metadata": {},
   "source": [
    "### Scatter plot for top 10 countires"
   ]
  },
  {
   "cell_type": "code",
   "execution_count": 42,
   "metadata": {},
   "outputs": [
    {
     "data": {
      "text/html": [
       "<div>\n",
       "<style scoped>\n",
       "    .dataframe tbody tr th:only-of-type {\n",
       "        vertical-align: middle;\n",
       "    }\n",
       "\n",
       "    .dataframe tbody tr th {\n",
       "        vertical-align: top;\n",
       "    }\n",
       "\n",
       "    .dataframe thead th {\n",
       "        text-align: right;\n",
       "    }\n",
       "</style>\n",
       "<table border=\"1\" class=\"dataframe\">\n",
       "  <thead>\n",
       "    <tr style=\"text-align: right;\">\n",
       "      <th></th>\n",
       "      <th>Country/Region</th>\n",
       "      <th>Continent</th>\n",
       "      <th>Population</th>\n",
       "      <th>ActiveCases</th>\n",
       "      <th>Serious,Critical</th>\n",
       "      <th>TotalTests</th>\n",
       "      <th>WHO Region</th>\n",
       "      <th>updatesTotalCases</th>\n",
       "      <th>updatesTotalDeaths</th>\n",
       "      <th>updatesTotalRecovered</th>\n",
       "    </tr>\n",
       "  </thead>\n",
       "  <tbody>\n",
       "    <tr>\n",
       "      <th>2</th>\n",
       "      <td>India</td>\n",
       "      <td>Asia</td>\n",
       "      <td>1.381345e+09</td>\n",
       "      <td>606387.0</td>\n",
       "      <td>8944.0</td>\n",
       "      <td>22149351.0</td>\n",
       "      <td>South-EastAsia</td>\n",
       "      <td>2025409.0</td>\n",
       "      <td>41638.0</td>\n",
       "      <td>1377384.0</td>\n",
       "    </tr>\n",
       "    <tr>\n",
       "      <th>0</th>\n",
       "      <td>USA</td>\n",
       "      <td>North America</td>\n",
       "      <td>3.311981e+08</td>\n",
       "      <td>2292707.0</td>\n",
       "      <td>18296.0</td>\n",
       "      <td>63139605.0</td>\n",
       "      <td>Americas</td>\n",
       "      <td>5032179.0</td>\n",
       "      <td>162804.0</td>\n",
       "      <td>2576668.0</td>\n",
       "    </tr>\n",
       "    <tr>\n",
       "      <th>22</th>\n",
       "      <td>Indonesia</td>\n",
       "      <td>Asia</td>\n",
       "      <td>2.738084e+08</td>\n",
       "      <td>37587.0</td>\n",
       "      <td>NaN</td>\n",
       "      <td>1633156.0</td>\n",
       "      <td>South-EastAsia</td>\n",
       "      <td>118753.0</td>\n",
       "      <td>5521.0</td>\n",
       "      <td>75645.0</td>\n",
       "    </tr>\n",
       "    <tr>\n",
       "      <th>13</th>\n",
       "      <td>Pakistan</td>\n",
       "      <td>Asia</td>\n",
       "      <td>2.212959e+08</td>\n",
       "      <td>19770.0</td>\n",
       "      <td>809.0</td>\n",
       "      <td>2058872.0</td>\n",
       "      <td>EasternMediterranean</td>\n",
       "      <td>281863.0</td>\n",
       "      <td>6035.0</td>\n",
       "      <td>256058.0</td>\n",
       "    </tr>\n",
       "    <tr>\n",
       "      <th>1</th>\n",
       "      <td>Brazil</td>\n",
       "      <td>South America</td>\n",
       "      <td>2.127107e+08</td>\n",
       "      <td>771258.0</td>\n",
       "      <td>8318.0</td>\n",
       "      <td>13206188.0</td>\n",
       "      <td>Americas</td>\n",
       "      <td>2917562.0</td>\n",
       "      <td>98644.0</td>\n",
       "      <td>2047660.0</td>\n",
       "    </tr>\n",
       "    <tr>\n",
       "      <th>45</th>\n",
       "      <td>Nigeria</td>\n",
       "      <td>Africa</td>\n",
       "      <td>2.066063e+08</td>\n",
       "      <td>11884.0</td>\n",
       "      <td>7.0</td>\n",
       "      <td>306894.0</td>\n",
       "      <td>Africa</td>\n",
       "      <td>45244.0</td>\n",
       "      <td>930.0</td>\n",
       "      <td>32430.0</td>\n",
       "    </tr>\n",
       "    <tr>\n",
       "      <th>14</th>\n",
       "      <td>Bangladesh</td>\n",
       "      <td>Asia</td>\n",
       "      <td>1.648514e+08</td>\n",
       "      <td>102521.0</td>\n",
       "      <td>NaN</td>\n",
       "      <td>1225124.0</td>\n",
       "      <td>South-EastAsia</td>\n",
       "      <td>249651.0</td>\n",
       "      <td>3306.0</td>\n",
       "      <td>143824.0</td>\n",
       "    </tr>\n",
       "    <tr>\n",
       "      <th>3</th>\n",
       "      <td>Russia</td>\n",
       "      <td>Europe</td>\n",
       "      <td>1.459409e+08</td>\n",
       "      <td>180931.0</td>\n",
       "      <td>2300.0</td>\n",
       "      <td>29716907.0</td>\n",
       "      <td>Europe</td>\n",
       "      <td>871894.0</td>\n",
       "      <td>14606.0</td>\n",
       "      <td>676357.0</td>\n",
       "    </tr>\n",
       "    <tr>\n",
       "      <th>5</th>\n",
       "      <td>Mexico</td>\n",
       "      <td>North America</td>\n",
       "      <td>1.290662e+08</td>\n",
       "      <td>103325.0</td>\n",
       "      <td>3987.0</td>\n",
       "      <td>1056915.0</td>\n",
       "      <td>Americas</td>\n",
       "      <td>469280.0</td>\n",
       "      <td>51336.0</td>\n",
       "      <td>312988.0</td>\n",
       "    </tr>\n",
       "    <tr>\n",
       "      <th>48</th>\n",
       "      <td>Japan</td>\n",
       "      <td>Asia</td>\n",
       "      <td>1.264359e+08</td>\n",
       "      <td>12360.0</td>\n",
       "      <td>115.0</td>\n",
       "      <td>938739.0</td>\n",
       "      <td>WesternPacific</td>\n",
       "      <td>42263.0</td>\n",
       "      <td>1026.0</td>\n",
       "      <td>28877.0</td>\n",
       "    </tr>\n",
       "  </tbody>\n",
       "</table>\n",
       "</div>"
      ],
      "text/plain": [
       "   Country/Region      Continent    Population  ActiveCases  Serious,Critical  \\\n",
       "2           India           Asia  1.381345e+09     606387.0            8944.0   \n",
       "0             USA  North America  3.311981e+08    2292707.0           18296.0   \n",
       "22      Indonesia           Asia  2.738084e+08      37587.0               NaN   \n",
       "13       Pakistan           Asia  2.212959e+08      19770.0             809.0   \n",
       "1          Brazil  South America  2.127107e+08     771258.0            8318.0   \n",
       "45        Nigeria         Africa  2.066063e+08      11884.0               7.0   \n",
       "14     Bangladesh           Asia  1.648514e+08     102521.0               NaN   \n",
       "3          Russia         Europe  1.459409e+08     180931.0            2300.0   \n",
       "5          Mexico  North America  1.290662e+08     103325.0            3987.0   \n",
       "48          Japan           Asia  1.264359e+08      12360.0             115.0   \n",
       "\n",
       "    TotalTests            WHO Region  updatesTotalCases  updatesTotalDeaths  \\\n",
       "2   22149351.0        South-EastAsia          2025409.0             41638.0   \n",
       "0   63139605.0              Americas          5032179.0            162804.0   \n",
       "22   1633156.0        South-EastAsia           118753.0              5521.0   \n",
       "13   2058872.0  EasternMediterranean           281863.0              6035.0   \n",
       "1   13206188.0              Americas          2917562.0             98644.0   \n",
       "45    306894.0                Africa            45244.0               930.0   \n",
       "14   1225124.0        South-EastAsia           249651.0              3306.0   \n",
       "3   29716907.0                Europe           871894.0             14606.0   \n",
       "5    1056915.0              Americas           469280.0             51336.0   \n",
       "48    938739.0        WesternPacific            42263.0              1026.0   \n",
       "\n",
       "    updatesTotalRecovered  \n",
       "2               1377384.0  \n",
       "0               2576668.0  \n",
       "22                75645.0  \n",
       "13               256058.0  \n",
       "1               2047660.0  \n",
       "45                32430.0  \n",
       "14               143824.0  \n",
       "3                676357.0  \n",
       "5                312988.0  \n",
       "48                28877.0  "
      ]
     },
     "execution_count": 42,
     "metadata": {},
     "output_type": "execute_result"
    }
   ],
   "source": [
    "total_population=data.sort_values(by='Population',ascending=False)\n",
    "ts2=total_population.head(10)\n",
    "ts2"
   ]
  },
  {
   "cell_type": "code",
   "execution_count": 43,
   "metadata": {},
   "outputs": [],
   "source": [
    "c= ts2['Population']\n",
    "c1 = ts2['TotalTests']\n",
    "c2 = ts2['updatesTotalCases']\n",
    "c3=ts2['updatesTotalDeaths']\n",
    "c4=ts2['Country/Region']\n",
    "c5=ts2['Serious,Critical']"
   ]
  },
  {
   "cell_type": "code",
   "execution_count": 44,
   "metadata": {},
   "outputs": [
    {
     "data": {
      "image/png": "[encoded data removed]",
      "text/plain": [
       "<Figure size 432x288 with 2 Axes>"
      ]
     },
     "metadata": {
      "needs_background": "light"
     },
     "output_type": "display_data"
    }
   ],
   "source": [
    "plt.scatter(c4,c1, edgecolors='black',c=c2,cmap='summer',linewidths=2, alpha=0.75)\n",
    "cbar=plt.colorbar()\n",
    "cbar.set_label(\"Confirmed\")\n",
    "plt.xlabel(\"States\")\n",
    "plt.xticks(rotation=\"vertical\")\n",
    "plt.ylabel(\"Total Tested\")\n",
    "plt.title(\"Tested V/S Confirmed\")\n",
    "plt.show()"
   ]
  },
  {
   "cell_type": "code",
   "execution_count": 45,
   "metadata": {},
   "outputs": [
    {
     "data": {
      "image/png": "[encoded data removed]",
      "text/plain": [
       "<Figure size 432x288 with 2 Axes>"
      ]
     },
     "metadata": {
      "needs_background": "light"
     },
     "output_type": "display_data"
    }
   ],
   "source": [
    "plt.scatter(c4,c3, edgecolors='black',c=c5,cmap='summer',linewidths=2, alpha=0.75)\n",
    "cbar=plt.colorbar()\n",
    "cbar.set_label(\"Critical Cases\")\n",
    "plt.xlabel(\"States\")\n",
    "plt.xticks(rotation=\"vertical\")\n",
    "plt.ylabel(\"Total Deaths\")\n",
    "plt.title(\"Deaths V/S Critical Cases\")\n",
    "plt.show()"
   ]
  },
  {
   "cell_type": "markdown",
   "metadata": {},
   "source": [
    "### Scatter plot for countries with least population"
   ]
  },
  {
   "cell_type": "code",
   "execution_count": 46,
   "metadata": {},
   "outputs": [
    {
     "data": {
      "text/html": [
       "<div>\n",
       "<style scoped>\n",
       "    .dataframe tbody tr th:only-of-type {\n",
       "        vertical-align: middle;\n",
       "    }\n",
       "\n",
       "    .dataframe tbody tr th {\n",
       "        vertical-align: top;\n",
       "    }\n",
       "\n",
       "    .dataframe thead th {\n",
       "        text-align: right;\n",
       "    }\n",
       "</style>\n",
       "<table border=\"1\" class=\"dataframe\">\n",
       "  <thead>\n",
       "    <tr style=\"text-align: right;\">\n",
       "      <th></th>\n",
       "      <th>Country/Region</th>\n",
       "      <th>Continent</th>\n",
       "      <th>Population</th>\n",
       "      <th>ActiveCases</th>\n",
       "      <th>Serious,Critical</th>\n",
       "      <th>TotalTests</th>\n",
       "      <th>WHO Region</th>\n",
       "      <th>updatesTotalCases</th>\n",
       "      <th>updatesTotalDeaths</th>\n",
       "      <th>updatesTotalRecovered</th>\n",
       "    </tr>\n",
       "  </thead>\n",
       "  <tbody>\n",
       "    <tr>\n",
       "      <th>207</th>\n",
       "      <td>Vatican City</td>\n",
       "      <td>Europe</td>\n",
       "      <td>801.0</td>\n",
       "      <td>0.0</td>\n",
       "      <td>NaN</td>\n",
       "      <td>NaN</td>\n",
       "      <td>Europe</td>\n",
       "      <td>12.0</td>\n",
       "      <td>NaN</td>\n",
       "      <td>12.0</td>\n",
       "    </tr>\n",
       "    <tr>\n",
       "      <th>206</th>\n",
       "      <td>Falkland Islands</td>\n",
       "      <td>South America</td>\n",
       "      <td>3489.0</td>\n",
       "      <td>0.0</td>\n",
       "      <td>NaN</td>\n",
       "      <td>1816.0</td>\n",
       "      <td>NaN</td>\n",
       "      <td>13.0</td>\n",
       "      <td>NaN</td>\n",
       "      <td>13.0</td>\n",
       "    </tr>\n",
       "    <tr>\n",
       "      <th>204</th>\n",
       "      <td>Montserrat</td>\n",
       "      <td>North America</td>\n",
       "      <td>4992.0</td>\n",
       "      <td>2.0</td>\n",
       "      <td>NaN</td>\n",
       "      <td>61.0</td>\n",
       "      <td>NaN</td>\n",
       "      <td>13.0</td>\n",
       "      <td>1.0</td>\n",
       "      <td>10.0</td>\n",
       "    </tr>\n",
       "    <tr>\n",
       "      <th>205</th>\n",
       "      <td>Caribbean Netherlands</td>\n",
       "      <td>North America</td>\n",
       "      <td>26247.0</td>\n",
       "      <td>6.0</td>\n",
       "      <td>NaN</td>\n",
       "      <td>424.0</td>\n",
       "      <td>NaN</td>\n",
       "      <td>13.0</td>\n",
       "      <td>NaN</td>\n",
       "      <td>7.0</td>\n",
       "    </tr>\n",
       "    <tr>\n",
       "      <th>177</th>\n",
       "      <td>Gibraltar</td>\n",
       "      <td>Europe</td>\n",
       "      <td>33690.0</td>\n",
       "      <td>6.0</td>\n",
       "      <td>NaN</td>\n",
       "      <td>23063.0</td>\n",
       "      <td>NaN</td>\n",
       "      <td>190.0</td>\n",
       "      <td>NaN</td>\n",
       "      <td>184.0</td>\n",
       "    </tr>\n",
       "    <tr>\n",
       "      <th>157</th>\n",
       "      <td>San Marino</td>\n",
       "      <td>Europe</td>\n",
       "      <td>33938.0</td>\n",
       "      <td>0.0</td>\n",
       "      <td>NaN</td>\n",
       "      <td>6068.0</td>\n",
       "      <td>Europe</td>\n",
       "      <td>699.0</td>\n",
       "      <td>42.0</td>\n",
       "      <td>657.0</td>\n",
       "    </tr>\n",
       "    <tr>\n",
       "      <th>188</th>\n",
       "      <td>Liechtenstein</td>\n",
       "      <td>Europe</td>\n",
       "      <td>38139.0</td>\n",
       "      <td>3.0</td>\n",
       "      <td>NaN</td>\n",
       "      <td>900.0</td>\n",
       "      <td>Europe</td>\n",
       "      <td>89.0</td>\n",
       "      <td>1.0</td>\n",
       "      <td>85.0</td>\n",
       "    </tr>\n",
       "    <tr>\n",
       "      <th>192</th>\n",
       "      <td>Saint Martin</td>\n",
       "      <td>North America</td>\n",
       "      <td>38729.0</td>\n",
       "      <td>9.0</td>\n",
       "      <td>1.0</td>\n",
       "      <td>1183.0</td>\n",
       "      <td>NaN</td>\n",
       "      <td>53.0</td>\n",
       "      <td>3.0</td>\n",
       "      <td>41.0</td>\n",
       "    </tr>\n",
       "    <tr>\n",
       "      <th>183</th>\n",
       "      <td>Turks and Caicos</td>\n",
       "      <td>North America</td>\n",
       "      <td>38768.0</td>\n",
       "      <td>88.0</td>\n",
       "      <td>3.0</td>\n",
       "      <td>1252.0</td>\n",
       "      <td>NaN</td>\n",
       "      <td>129.0</td>\n",
       "      <td>2.0</td>\n",
       "      <td>39.0</td>\n",
       "    </tr>\n",
       "    <tr>\n",
       "      <th>185</th>\n",
       "      <td>Monaco</td>\n",
       "      <td>Europe</td>\n",
       "      <td>39270.0</td>\n",
       "      <td>16.0</td>\n",
       "      <td>2.0</td>\n",
       "      <td>38209.0</td>\n",
       "      <td>Europe</td>\n",
       "      <td>125.0</td>\n",
       "      <td>4.0</td>\n",
       "      <td>105.0</td>\n",
       "    </tr>\n",
       "    <tr>\n",
       "      <th>179</th>\n",
       "      <td>Sint Maarten</td>\n",
       "      <td>North America</td>\n",
       "      <td>42924.0</td>\n",
       "      <td>80.0</td>\n",
       "      <td>3.0</td>\n",
       "      <td>1115.0</td>\n",
       "      <td>NaN</td>\n",
       "      <td>160.0</td>\n",
       "      <td>16.0</td>\n",
       "      <td>64.0</td>\n",
       "    </tr>\n",
       "    <tr>\n",
       "      <th>172</th>\n",
       "      <td>Faeroe Islands</td>\n",
       "      <td>Europe</td>\n",
       "      <td>48882.0</td>\n",
       "      <td>74.0</td>\n",
       "      <td>1.0</td>\n",
       "      <td>43045.0</td>\n",
       "      <td>NaN</td>\n",
       "      <td>266.0</td>\n",
       "      <td>NaN</td>\n",
       "      <td>192.0</td>\n",
       "    </tr>\n",
       "    <tr>\n",
       "      <th>202</th>\n",
       "      <td>Saint Kitts and Nevis</td>\n",
       "      <td>North America</td>\n",
       "      <td>53237.0</td>\n",
       "      <td>1.0</td>\n",
       "      <td>NaN</td>\n",
       "      <td>1146.0</td>\n",
       "      <td>Americas</td>\n",
       "      <td>17.0</td>\n",
       "      <td>NaN</td>\n",
       "      <td>16.0</td>\n",
       "    </tr>\n",
       "    <tr>\n",
       "      <th>203</th>\n",
       "      <td>Greenland</td>\n",
       "      <td>North America</td>\n",
       "      <td>56780.0</td>\n",
       "      <td>0.0</td>\n",
       "      <td>NaN</td>\n",
       "      <td>5977.0</td>\n",
       "      <td>Europe</td>\n",
       "      <td>14.0</td>\n",
       "      <td>NaN</td>\n",
       "      <td>14.0</td>\n",
       "    </tr>\n",
       "    <tr>\n",
       "      <th>180</th>\n",
       "      <td>Bermuda</td>\n",
       "      <td>North America</td>\n",
       "      <td>62254.0</td>\n",
       "      <td>4.0</td>\n",
       "      <td>NaN</td>\n",
       "      <td>26352.0</td>\n",
       "      <td>Americas</td>\n",
       "      <td>157.0</td>\n",
       "      <td>9.0</td>\n",
       "      <td>144.0</td>\n",
       "    </tr>\n",
       "  </tbody>\n",
       "</table>\n",
       "</div>"
      ],
      "text/plain": [
       "            Country/Region      Continent  Population  ActiveCases  \\\n",
       "207           Vatican City         Europe       801.0          0.0   \n",
       "206       Falkland Islands  South America      3489.0          0.0   \n",
       "204             Montserrat  North America      4992.0          2.0   \n",
       "205  Caribbean Netherlands  North America     26247.0          6.0   \n",
       "177              Gibraltar         Europe     33690.0          6.0   \n",
       "157             San Marino         Europe     33938.0          0.0   \n",
       "188          Liechtenstein         Europe     38139.0          3.0   \n",
       "192           Saint Martin  North America     38729.0          9.0   \n",
       "183       Turks and Caicos  North America     38768.0         88.0   \n",
       "185                 Monaco         Europe     39270.0         16.0   \n",
       "179           Sint Maarten  North America     42924.0         80.0   \n",
       "172         Faeroe Islands         Europe     48882.0         74.0   \n",
       "202  Saint Kitts and Nevis  North America     53237.0          1.0   \n",
       "203              Greenland  North America     56780.0          0.0   \n",
       "180                Bermuda  North America     62254.0          4.0   \n",
       "\n",
       "     Serious,Critical  TotalTests WHO Region  updatesTotalCases  \\\n",
       "207               NaN         NaN     Europe               12.0   \n",
       "206               NaN      1816.0        NaN               13.0   \n",
       "204               NaN        61.0        NaN               13.0   \n",
       "205               NaN       424.0        NaN               13.0   \n",
       "177               NaN     23063.0        NaN              190.0   \n",
       "157               NaN      6068.0     Europe              699.0   \n",
       "188               NaN       900.0     Europe               89.0   \n",
       "192               1.0      1183.0        NaN               53.0   \n",
       "183               3.0      1252.0        NaN              129.0   \n",
       "185               2.0     38209.0     Europe              125.0   \n",
       "179               3.0      1115.0        NaN              160.0   \n",
       "172               1.0     43045.0        NaN              266.0   \n",
       "202               NaN      1146.0   Americas               17.0   \n",
       "203               NaN      5977.0     Europe               14.0   \n",
       "180               NaN     26352.0   Americas              157.0   \n",
       "\n",
       "     updatesTotalDeaths  updatesTotalRecovered  \n",
       "207                 NaN                   12.0  \n",
       "206                 NaN                   13.0  \n",
       "204                 1.0                   10.0  \n",
       "205                 NaN                    7.0  \n",
       "177                 NaN                  184.0  \n",
       "157                42.0                  657.0  \n",
       "188                 1.0                   85.0  \n",
       "192                 3.0                   41.0  \n",
       "183                 2.0                   39.0  \n",
       "185                 4.0                  105.0  \n",
       "179                16.0                   64.0  \n",
       "172                 NaN                  192.0  \n",
       "202                 NaN                   16.0  \n",
       "203                 NaN                   14.0  \n",
       "180                 9.0                  144.0  "
      ]
     },
     "execution_count": 46,
     "metadata": {},
     "output_type": "execute_result"
    }
   ],
   "source": [
    "total_population=data.sort_values(by='Population',ascending=True)\n",
    "ts1=total_population.head(15)\n",
    "ts1"
   ]
  },
  {
   "cell_type": "code",
   "execution_count": 47,
   "metadata": {},
   "outputs": [],
   "source": [
    "a= ts1['Population']\n",
    "a1 = ts1['TotalTests']\n",
    "a2 = ts1['updatesTotalCases']\n",
    "a3=ts1['updatesTotalDeaths']\n",
    "a4=ts1['Country/Region']\n",
    "a5=ts1['Serious,Critical']"
   ]
  },
  {
   "cell_type": "code",
   "execution_count": 48,
   "metadata": {},
   "outputs": [
    {
     "data": {
      "image/png": "[encoded data removed]",
      "text/plain": [
       "<Figure size 432x288 with 2 Axes>"
      ]
     },
     "metadata": {
      "needs_background": "light"
     },
     "output_type": "display_data"
    }
   ],
   "source": [
    "plt.scatter(a4,a1, edgecolors='black',c=a2,cmap='summer',linewidths=2, alpha=0.75)\n",
    "cbar=plt.colorbar()\n",
    "cbar.set_label(\"Confirmed\")\n",
    "plt.xlabel(\"States\")\n",
    "plt.xticks(rotation=\"vertical\")\n",
    "plt.ylabel(\"Total Tested\")\n",
    "plt.title(\"Tested V/S Confirmed\")\n",
    "plt.show()"
   ]
  },
  {
   "cell_type": "markdown",
   "metadata": {},
   "source": [
    "<b>Observation<b>: In San Marino less number of people where it has most number of the confirmed cases"
   ]
  },
  {
   "cell_type": "code",
   "execution_count": 49,
   "metadata": {},
   "outputs": [
    {
     "data": {
      "image/png": "[encoded data removed]",
      "text/plain": [
       "<Figure size 432x288 with 2 Axes>"
      ]
     },
     "metadata": {
      "needs_background": "light"
     },
     "output_type": "display_data"
    }
   ],
   "source": [
    "plt.scatter(a4,a3, edgecolors='black',c=a5,cmap='summer',linewidths=2, alpha=0.75)\n",
    "cbar=plt.colorbar()\n",
    "cbar.set_label(\"Critical Cases\")\n",
    "plt.xlabel(\"States\")\n",
    "plt.xticks(rotation=\"vertical\")\n",
    "plt.ylabel(\"Total Deaths\")\n",
    "plt.title(\"Deaths V/S Critical Cases\")\n",
    "plt.show()"
   ]
  },
  {
   "cell_type": "markdown",
   "metadata": {},
   "source": [
    "## Waffle Plot"
   ]
  },
  {
   "cell_type": "code",
   "execution_count": 50,
   "metadata": {},
   "outputs": [
    {
     "name": "stdout",
     "output_type": "stream",
     "text": [
      "['India', 'USA', 'Indonesia', 'Pakistan', 'Brazil', 'Nigeria', 'Bangladesh', 'Russia', 'Mexico', 'Japan']\n"
     ]
    }
   ],
   "source": [
    "s = list(ts2['Country/Region'].head(10))\n",
    "print(s)"
   ]
  },
  {
   "cell_type": "code",
   "execution_count": 53,
   "metadata": {},
   "outputs": [
    {
     "data": {
      "text/html": [
       "<div>\n",
       "<style scoped>\n",
       "    .dataframe tbody tr th:only-of-type {\n",
       "        vertical-align: middle;\n",
       "    }\n",
       "\n",
       "    .dataframe tbody tr th {\n",
       "        vertical-align: top;\n",
       "    }\n",
       "\n",
       "    .dataframe thead th {\n",
       "        text-align: right;\n",
       "    }\n",
       "</style>\n",
       "<table border=\"1\" class=\"dataframe\">\n",
       "  <thead>\n",
       "    <tr style=\"text-align: right;\">\n",
       "      <th></th>\n",
       "      <th>Country/Region</th>\n",
       "      <th>Continent</th>\n",
       "      <th>Population</th>\n",
       "      <th>ActiveCases</th>\n",
       "      <th>Serious,Critical</th>\n",
       "      <th>TotalTests</th>\n",
       "      <th>WHO Region</th>\n",
       "      <th>updatesTotalCases</th>\n",
       "      <th>updatesTotalDeaths</th>\n",
       "      <th>updatesTotalRecovered</th>\n",
       "    </tr>\n",
       "  </thead>\n",
       "  <tbody>\n",
       "    <tr>\n",
       "      <th>2</th>\n",
       "      <td>India</td>\n",
       "      <td>Asia</td>\n",
       "      <td>1.381345e+09</td>\n",
       "      <td>606387.0</td>\n",
       "      <td>8944.0</td>\n",
       "      <td>22149351.0</td>\n",
       "      <td>South-EastAsia</td>\n",
       "      <td>2025409.0</td>\n",
       "      <td>41638.0</td>\n",
       "      <td>1377384.0</td>\n",
       "    </tr>\n",
       "    <tr>\n",
       "      <th>0</th>\n",
       "      <td>USA</td>\n",
       "      <td>North America</td>\n",
       "      <td>3.311981e+08</td>\n",
       "      <td>2292707.0</td>\n",
       "      <td>18296.0</td>\n",
       "      <td>63139605.0</td>\n",
       "      <td>Americas</td>\n",
       "      <td>5032179.0</td>\n",
       "      <td>162804.0</td>\n",
       "      <td>2576668.0</td>\n",
       "    </tr>\n",
       "    <tr>\n",
       "      <th>22</th>\n",
       "      <td>Indonesia</td>\n",
       "      <td>Asia</td>\n",
       "      <td>2.738084e+08</td>\n",
       "      <td>37587.0</td>\n",
       "      <td>NaN</td>\n",
       "      <td>1633156.0</td>\n",
       "      <td>South-EastAsia</td>\n",
       "      <td>118753.0</td>\n",
       "      <td>5521.0</td>\n",
       "      <td>75645.0</td>\n",
       "    </tr>\n",
       "    <tr>\n",
       "      <th>13</th>\n",
       "      <td>Pakistan</td>\n",
       "      <td>Asia</td>\n",
       "      <td>2.212959e+08</td>\n",
       "      <td>19770.0</td>\n",
       "      <td>809.0</td>\n",
       "      <td>2058872.0</td>\n",
       "      <td>EasternMediterranean</td>\n",
       "      <td>281863.0</td>\n",
       "      <td>6035.0</td>\n",
       "      <td>256058.0</td>\n",
       "    </tr>\n",
       "    <tr>\n",
       "      <th>1</th>\n",
       "      <td>Brazil</td>\n",
       "      <td>South America</td>\n",
       "      <td>2.127107e+08</td>\n",
       "      <td>771258.0</td>\n",
       "      <td>8318.0</td>\n",
       "      <td>13206188.0</td>\n",
       "      <td>Americas</td>\n",
       "      <td>2917562.0</td>\n",
       "      <td>98644.0</td>\n",
       "      <td>2047660.0</td>\n",
       "    </tr>\n",
       "    <tr>\n",
       "      <th>45</th>\n",
       "      <td>Nigeria</td>\n",
       "      <td>Africa</td>\n",
       "      <td>2.066063e+08</td>\n",
       "      <td>11884.0</td>\n",
       "      <td>7.0</td>\n",
       "      <td>306894.0</td>\n",
       "      <td>Africa</td>\n",
       "      <td>45244.0</td>\n",
       "      <td>930.0</td>\n",
       "      <td>32430.0</td>\n",
       "    </tr>\n",
       "    <tr>\n",
       "      <th>14</th>\n",
       "      <td>Bangladesh</td>\n",
       "      <td>Asia</td>\n",
       "      <td>1.648514e+08</td>\n",
       "      <td>102521.0</td>\n",
       "      <td>NaN</td>\n",
       "      <td>1225124.0</td>\n",
       "      <td>South-EastAsia</td>\n",
       "      <td>249651.0</td>\n",
       "      <td>3306.0</td>\n",
       "      <td>143824.0</td>\n",
       "    </tr>\n",
       "    <tr>\n",
       "      <th>3</th>\n",
       "      <td>Russia</td>\n",
       "      <td>Europe</td>\n",
       "      <td>1.459409e+08</td>\n",
       "      <td>180931.0</td>\n",
       "      <td>2300.0</td>\n",
       "      <td>29716907.0</td>\n",
       "      <td>Europe</td>\n",
       "      <td>871894.0</td>\n",
       "      <td>14606.0</td>\n",
       "      <td>676357.0</td>\n",
       "    </tr>\n",
       "    <tr>\n",
       "      <th>5</th>\n",
       "      <td>Mexico</td>\n",
       "      <td>North America</td>\n",
       "      <td>1.290662e+08</td>\n",
       "      <td>103325.0</td>\n",
       "      <td>3987.0</td>\n",
       "      <td>1056915.0</td>\n",
       "      <td>Americas</td>\n",
       "      <td>469280.0</td>\n",
       "      <td>51336.0</td>\n",
       "      <td>312988.0</td>\n",
       "    </tr>\n",
       "    <tr>\n",
       "      <th>48</th>\n",
       "      <td>Japan</td>\n",
       "      <td>Asia</td>\n",
       "      <td>1.264359e+08</td>\n",
       "      <td>12360.0</td>\n",
       "      <td>115.0</td>\n",
       "      <td>938739.0</td>\n",
       "      <td>WesternPacific</td>\n",
       "      <td>42263.0</td>\n",
       "      <td>1026.0</td>\n",
       "      <td>28877.0</td>\n",
       "    </tr>\n",
       "  </tbody>\n",
       "</table>\n",
       "</div>"
      ],
      "text/plain": [
       "   Country/Region      Continent    Population  ActiveCases  Serious,Critical  \\\n",
       "2           India           Asia  1.381345e+09     606387.0            8944.0   \n",
       "0             USA  North America  3.311981e+08    2292707.0           18296.0   \n",
       "22      Indonesia           Asia  2.738084e+08      37587.0               NaN   \n",
       "13       Pakistan           Asia  2.212959e+08      19770.0             809.0   \n",
       "1          Brazil  South America  2.127107e+08     771258.0            8318.0   \n",
       "45        Nigeria         Africa  2.066063e+08      11884.0               7.0   \n",
       "14     Bangladesh           Asia  1.648514e+08     102521.0               NaN   \n",
       "3          Russia         Europe  1.459409e+08     180931.0            2300.0   \n",
       "5          Mexico  North America  1.290662e+08     103325.0            3987.0   \n",
       "48          Japan           Asia  1.264359e+08      12360.0             115.0   \n",
       "\n",
       "    TotalTests            WHO Region  updatesTotalCases  updatesTotalDeaths  \\\n",
       "2   22149351.0        South-EastAsia          2025409.0             41638.0   \n",
       "0   63139605.0              Americas          5032179.0            162804.0   \n",
       "22   1633156.0        South-EastAsia           118753.0              5521.0   \n",
       "13   2058872.0  EasternMediterranean           281863.0              6035.0   \n",
       "1   13206188.0              Americas          2917562.0             98644.0   \n",
       "45    306894.0                Africa            45244.0               930.0   \n",
       "14   1225124.0        South-EastAsia           249651.0              3306.0   \n",
       "3   29716907.0                Europe           871894.0             14606.0   \n",
       "5    1056915.0              Americas           469280.0             51336.0   \n",
       "48    938739.0        WesternPacific            42263.0              1026.0   \n",
       "\n",
       "    updatesTotalRecovered  \n",
       "2               1377384.0  \n",
       "0               2576668.0  \n",
       "22                75645.0  \n",
       "13               256058.0  \n",
       "1               2047660.0  \n",
       "45                32430.0  \n",
       "14               143824.0  \n",
       "3                676357.0  \n",
       "5                312988.0  \n",
       "48                28877.0  "
      ]
     },
     "execution_count": 53,
     "metadata": {},
     "output_type": "execute_result"
    }
   ],
   "source": [
    "ts2"
   ]
  },
  {
   "cell_type": "code",
   "execution_count": 54,
   "metadata": {},
   "outputs": [
    {
     "name": "stdout",
     "output_type": "stream",
     "text": [
      "[44.77204301075269, 175.05806451612904, 5.936559139784946, 6.489247311827957, 106.06881720430107, 1.0, 3.554838709677419, 15.705376344086021, 55.2, 1.103225806451613]\n"
     ]
    }
   ],
   "source": [
    "deceased_values = list(ts2['updatesTotalDeaths'])\n",
    "\n",
    "deceased_values = [ele/min(deceased_values) for ele in deceased_values]\n",
    "print(deceased_values)"
   ]
  },
  {
   "cell_type": "code",
   "execution_count": 55,
   "metadata": {},
   "outputs": [
    {
     "name": "stdout",
     "output_type": "stream",
     "text": [
      "[47.92392873198779, 119.06819203558668, 2.8098573220074297, 6.669261528996995, 69.03348082246883, 1.0705345100915695, 5.907081844639519, 20.63019662589026, 11.103802380332679, 1.0]\n"
     ]
    }
   ],
   "source": [
    "total = list(ts2['updatesTotalCases'])\n",
    "\n",
    "total = [ele/min(total) for ele in total]\n",
    "print(total)"
   ]
  },
  {
   "cell_type": "code",
   "execution_count": 56,
   "metadata": {},
   "outputs": [
    {
     "name": "stdout",
     "output_type": "stream",
     "text": [
      "[51.02549646583642, 192.92384718949847, 3.162823964994951, 1.6635812857623695, 64.89885560417368, 1.0, 8.62680915516661, 15.224755974419388, 8.694463143722652, 1.0400538539212387]\n"
     ]
    }
   ],
   "source": [
    "active = list(ts2['ActiveCases'])\n",
    "\n",
    "active = [ele/min(active) for ele in active]\n",
    "print(active)"
   ]
  },
  {
   "cell_type": "code",
   "execution_count": 57,
   "metadata": {},
   "outputs": [
    {
     "name": "stdout",
     "output_type": "stream",
     "text": [
      "[47.69830661079752, 89.2290750424213, 2.6195588184368184, 8.867195345776915, 70.90972053883713, 1.123039096859092, 4.9805727741801435, 23.421996744814212, 10.838660525677875, 1.0]\n"
     ]
    }
   ],
   "source": [
    "rec_values = list(ts2['updatesTotalRecovered'])\n",
    "\n",
    "rec_values = [ele/min(rec_values) for ele in rec_values]\n",
    "print(rec_values)"
   ]
  },
  {
   "cell_type": "code",
   "execution_count": 58,
   "metadata": {},
   "outputs": [
    {
     "data": {
      "image/png": "[encoded data removed]",
      "text/plain": [
       "<Waffle size 7200x3600 with 4 Axes>"
      ]
     },
     "metadata": {
      "needs_background": "light"
     },
     "output_type": "display_data"
    }
   ],
   "source": [
    "fig = plt.figure(FigureClass=Waffle,\n",
    "    plots={'411': {\n",
    "            'values': total,\n",
    "            'labels': s,\n",
    "            'legend': {\n",
    "                'loc': 'upper left',\n",
    "                'bbox_to_anchor': (1.05, 1),\n",
    "                'fontsize': 25\n",
    "            },\n",
    "            'title': {\n",
    "                'label': 'Total Confirmed Cases',\n",
    "                'loc': 'left','fontsize': 30\n",
    "            }\n",
    "        },\n",
    "        '412': {\n",
    "            'values': active,\n",
    "            'labels':s,\n",
    "            'legend': {\n",
    "                'loc': 'upper left',\n",
    "                'bbox_to_anchor': (1.2, 1),\n",
    "                'fontsize': 25\n",
    "            },\n",
    "            'title': {\n",
    "                'label': 'Active Cases',\n",
    "                'loc': 'left','fontsize': 30\n",
    "            }\n",
    "        },\n",
    "        '413': {\n",
    "            'values': rec_values,\n",
    "            'labels':s,\n",
    "            'legend': {\n",
    "                'loc': 'upper left',\n",
    "                'bbox_to_anchor': (1.3, 1),\n",
    "                'fontsize': 25\n",
    "            },\n",
    "            'title': {\n",
    "                'label': 'Recovered Cases',\n",
    "                'loc': 'left','fontsize': 30\n",
    "            }\n",
    "        },\n",
    "        '414': {\n",
    "            'values': deceased_values,\n",
    "            'labels':s,\n",
    "            'legend': {\n",
    "                'loc': 'upper left',\n",
    "                'bbox_to_anchor': (1.3, 1),\n",
    "                'fontsize': 25\n",
    "            },\n",
    "            'title': {\n",
    "                'label': 'Total Deaths',\n",
    "                'loc': 'left','fontsize': 30\n",
    "            }\n",
    "        },\n",
    "    },\n",
    "    rows=15,\n",
    "    figsize=(100, 50)  # figsize is a parameter of plt.figure\n",
    ")\n",
    "fig.show()"
   ]
  },
  {
   "cell_type": "markdown",
   "metadata": {},
   "source": [
    "<b>Observation<b>:USA has more number of cases in all the 4 aspects"
   ]
  },
  {
   "cell_type": "markdown",
   "metadata": {},
   "source": [
    "### Counting number of WHO regions in the world"
   ]
  },
  {
   "cell_type": "code",
   "execution_count": 59,
   "metadata": {},
   "outputs": [
    {
     "data": {
      "image/png": "[encoded data removed]",
      "text/plain": [
       "<Figure size 432x288 with 1 Axes>"
      ]
     },
     "metadata": {
      "needs_background": "light"
     },
     "output_type": "display_data"
    }
   ],
   "source": [
    "sns.countplot(data['WHO Region'])\n",
    "plt.xticks(rotation='vertical')\n",
    "plt.show()"
   ]
  },
  {
   "cell_type": "markdown",
   "metadata": {},
   "source": [
    "<b>Observation<b>: Europe has more number of WHO regions."
   ]
  },
  {
   "cell_type": "markdown",
   "metadata": {},
   "source": [
    "## Plot using Pie Chart\n"
   ]
  },
  {
   "cell_type": "code",
   "execution_count": 60,
   "metadata": {},
   "outputs": [
    {
     "data": {
      "text/html": [
       "<div>\n",
       "<style scoped>\n",
       "    .dataframe tbody tr th:only-of-type {\n",
       "        vertical-align: middle;\n",
       "    }\n",
       "\n",
       "    .dataframe tbody tr th {\n",
       "        vertical-align: top;\n",
       "    }\n",
       "\n",
       "    .dataframe thead th {\n",
       "        text-align: right;\n",
       "    }\n",
       "</style>\n",
       "<table border=\"1\" class=\"dataframe\">\n",
       "  <thead>\n",
       "    <tr style=\"text-align: right;\">\n",
       "      <th></th>\n",
       "      <th>Country/Region</th>\n",
       "      <th>Continent</th>\n",
       "      <th>Population</th>\n",
       "      <th>ActiveCases</th>\n",
       "      <th>Serious,Critical</th>\n",
       "      <th>TotalTests</th>\n",
       "      <th>WHO Region</th>\n",
       "      <th>updatesTotalCases</th>\n",
       "      <th>updatesTotalDeaths</th>\n",
       "      <th>updatesTotalRecovered</th>\n",
       "    </tr>\n",
       "  </thead>\n",
       "  <tbody>\n",
       "    <tr>\n",
       "      <th>0</th>\n",
       "      <td>USA</td>\n",
       "      <td>North America</td>\n",
       "      <td>3.311981e+08</td>\n",
       "      <td>2292707.0</td>\n",
       "      <td>18296.0</td>\n",
       "      <td>63139605.0</td>\n",
       "      <td>Americas</td>\n",
       "      <td>5032179.0</td>\n",
       "      <td>162804.0</td>\n",
       "      <td>2576668.0</td>\n",
       "    </tr>\n",
       "    <tr>\n",
       "      <th>1</th>\n",
       "      <td>Brazil</td>\n",
       "      <td>South America</td>\n",
       "      <td>2.127107e+08</td>\n",
       "      <td>771258.0</td>\n",
       "      <td>8318.0</td>\n",
       "      <td>13206188.0</td>\n",
       "      <td>Americas</td>\n",
       "      <td>2917562.0</td>\n",
       "      <td>98644.0</td>\n",
       "      <td>2047660.0</td>\n",
       "    </tr>\n",
       "    <tr>\n",
       "      <th>2</th>\n",
       "      <td>India</td>\n",
       "      <td>Asia</td>\n",
       "      <td>1.381345e+09</td>\n",
       "      <td>606387.0</td>\n",
       "      <td>8944.0</td>\n",
       "      <td>22149351.0</td>\n",
       "      <td>South-EastAsia</td>\n",
       "      <td>2025409.0</td>\n",
       "      <td>41638.0</td>\n",
       "      <td>1377384.0</td>\n",
       "    </tr>\n",
       "    <tr>\n",
       "      <th>3</th>\n",
       "      <td>Russia</td>\n",
       "      <td>Europe</td>\n",
       "      <td>1.459409e+08</td>\n",
       "      <td>180931.0</td>\n",
       "      <td>2300.0</td>\n",
       "      <td>29716907.0</td>\n",
       "      <td>Europe</td>\n",
       "      <td>871894.0</td>\n",
       "      <td>14606.0</td>\n",
       "      <td>676357.0</td>\n",
       "    </tr>\n",
       "    <tr>\n",
       "      <th>4</th>\n",
       "      <td>South Africa</td>\n",
       "      <td>Africa</td>\n",
       "      <td>5.938157e+07</td>\n",
       "      <td>141264.0</td>\n",
       "      <td>539.0</td>\n",
       "      <td>3149807.0</td>\n",
       "      <td>Africa</td>\n",
       "      <td>538184.0</td>\n",
       "      <td>9604.0</td>\n",
       "      <td>387316.0</td>\n",
       "    </tr>\n",
       "  </tbody>\n",
       "</table>\n",
       "</div>"
      ],
      "text/plain": [
       "  Country/Region      Continent    Population  ActiveCases  Serious,Critical  \\\n",
       "0            USA  North America  3.311981e+08    2292707.0           18296.0   \n",
       "1         Brazil  South America  2.127107e+08     771258.0            8318.0   \n",
       "2          India           Asia  1.381345e+09     606387.0            8944.0   \n",
       "3         Russia         Europe  1.459409e+08     180931.0            2300.0   \n",
       "4   South Africa         Africa  5.938157e+07     141264.0             539.0   \n",
       "\n",
       "   TotalTests      WHO Region  updatesTotalCases  updatesTotalDeaths  \\\n",
       "0  63139605.0        Americas          5032179.0            162804.0   \n",
       "1  13206188.0        Americas          2917562.0             98644.0   \n",
       "2  22149351.0  South-EastAsia          2025409.0             41638.0   \n",
       "3  29716907.0          Europe           871894.0             14606.0   \n",
       "4   3149807.0          Africa           538184.0              9604.0   \n",
       "\n",
       "   updatesTotalRecovered  \n",
       "0              2576668.0  \n",
       "1              2047660.0  \n",
       "2              1377384.0  \n",
       "3               676357.0  \n",
       "4               387316.0  "
      ]
     },
     "execution_count": 60,
     "metadata": {},
     "output_type": "execute_result"
    }
   ],
   "source": [
    "data.head()"
   ]
  },
  {
   "cell_type": "markdown",
   "metadata": {},
   "source": [
    "## Sorting under Pie"
   ]
  },
  {
   "cell_type": "code",
   "execution_count": 61,
   "metadata": {},
   "outputs": [
    {
     "name": "stdout",
     "output_type": "stream",
     "text": [
      "   Country/Region      Continent    Population  ActiveCases  Serious,Critical  \\\n",
      "2           India           Asia  1.381345e+09     606387.0            8944.0   \n",
      "0             USA  North America  3.311981e+08    2292707.0           18296.0   \n",
      "22      Indonesia           Asia  2.738084e+08      37587.0               NaN   \n",
      "13       Pakistan           Asia  2.212959e+08      19770.0             809.0   \n",
      "1          Brazil  South America  2.127107e+08     771258.0            8318.0   \n",
      "\n",
      "    TotalTests            WHO Region  updatesTotalCases  updatesTotalDeaths  \\\n",
      "2   22149351.0        South-EastAsia          2025409.0             41638.0   \n",
      "0   63139605.0              Americas          5032179.0            162804.0   \n",
      "22   1633156.0        South-EastAsia           118753.0              5521.0   \n",
      "13   2058872.0  EasternMediterranean           281863.0              6035.0   \n",
      "1   13206188.0              Americas          2917562.0             98644.0   \n",
      "\n",
      "    updatesTotalRecovered  \n",
      "2               1377384.0  \n",
      "0               2576668.0  \n",
      "22                75645.0  \n",
      "13               256058.0  \n",
      "1               2047660.0  \n"
     ]
    }
   ],
   "source": [
    "Continent=data['Continent'].value_counts().idxmax()\n",
    "top=data.sort_values(by='Population',ascending=False)\n",
    "population=top.head(5)\n",
    "print(population)"
   ]
  },
  {
   "cell_type": "code",
   "execution_count": 62,
   "metadata": {},
   "outputs": [
    {
     "data": {
      "text/plain": [
       "267859298.0"
      ]
     },
     "execution_count": 62,
     "metadata": {},
     "output_type": "execute_result"
    }
   ],
   "source": [
    "c=data['TotalTests'].sum()\n",
    "c"
   ]
  },
  {
   "cell_type": "code",
   "execution_count": 63,
   "metadata": {},
   "outputs": [
    {
     "data": {
      "text/plain": [
       "19177088.0"
      ]
     },
     "execution_count": 63,
     "metadata": {},
     "output_type": "execute_result"
    }
   ],
   "source": [
    "d=data['updatesTotalCases'].sum()\n",
    "d"
   ]
  },
  {
   "cell_type": "code",
   "execution_count": 64,
   "metadata": {},
   "outputs": [
    {
     "data": {
      "text/plain": [
       "12075309.0"
      ]
     },
     "execution_count": 64,
     "metadata": {},
     "output_type": "execute_result"
    }
   ],
   "source": [
    "t=data['updatesTotalRecovered'].sum()\n",
    "t"
   ]
  },
  {
   "cell_type": "code",
   "execution_count": 65,
   "metadata": {},
   "outputs": [
    {
     "data": {
      "text/plain": [
       "65196.0"
      ]
     },
     "execution_count": 65,
     "metadata": {},
     "output_type": "execute_result"
    }
   ],
   "source": [
    "v=data['Serious,Critical'].sum()\n",
    "v"
   ]
  },
  {
   "cell_type": "code",
   "execution_count": 66,
   "metadata": {},
   "outputs": [
    {
     "data": {
      "text/plain": [
       "713907.0"
      ]
     },
     "execution_count": 66,
     "metadata": {},
     "output_type": "execute_result"
    }
   ],
   "source": [
    "r=data['updatesTotalDeaths'].sum()\n",
    "r"
   ]
  },
  {
   "cell_type": "markdown",
   "metadata": {},
   "source": [
    "## Representing overall data "
   ]
  },
  {
   "cell_type": "code",
   "execution_count": 67,
   "metadata": {},
   "outputs": [
    {
     "data": {
      "image/png": "[encoded data removed]",
      "text/plain": [
       "<Figure size 432x288 with 1 Axes>"
      ]
     },
     "metadata": {},
     "output_type": "display_data"
    },
    {
     "data": {
      "text/plain": [
       "<Figure size 792x432 with 0 Axes>"
      ]
     },
     "metadata": {},
     "output_type": "display_data"
    }
   ],
   "source": [
    "c=data['TotalTests'].mean()\n",
    "d=data['updatesTotalCases'].mean()\n",
    "r=data['updatesTotalDeaths'].mean()\n",
    "t=data['updatesTotalRecovered'].mean()\n",
    "slices=[c,d,r,t]\n",
    "labels=['TotalTests','TotalCases','TotalDeaths','TotalRecovered']\n",
    "explode = [0.5, 0, 0, 0, 0]\n",
    "plt.pie(slices,wedgeprops={'edgecolor':'black'},labels=labels,autopct=\"%0.2f%%\")\n",
    "plt.title(\"OVERALL CHART\",SIZE=20)\n",
    "plt.figure(figsize=(11,6))\n",
    "plt.show()"
   ]
  },
  {
   "cell_type": "markdown",
   "metadata": {},
   "source": [
    "#### Observation: from the 4 data's as mentioned above we can clearly say that the number of deaths is less than number of recovered "
   ]
  },
  {
   "cell_type": "markdown",
   "metadata": {},
   "source": [
    "## Total tested v/s Total death"
   ]
  },
  {
   "cell_type": "code",
   "execution_count": 68,
   "metadata": {},
   "outputs": [
    {
     "data": {
      "image/png": "[encoded data removed]",
      "text/plain": [
       "<Figure size 432x288 with 1 Axes>"
      ]
     },
     "metadata": {},
     "output_type": "display_data"
    }
   ],
   "source": [
    "x=data['updatesTotalCases'].sum()\n",
    "y=data['updatesTotalDeaths'].sum()\n",
    "slices=[x,y]\n",
    "explode=[0.3,0]\n",
    "labels=['Tested','Death']\n",
    "plt.title('total tested v/s total death')\n",
    "colors = ['yellow','green']\n",
    "plt.pie(slices, labels=labels, explode=explode, shadow=True, startangle=60, autopct=\"%0.2f%%\",colors=colors,wedgeprops={'edgecolor':'black'})\n",
    "plt.show()"
   ]
  },
  {
   "cell_type": "markdown",
   "metadata": {},
   "source": [
    "#### Observation: from the above chart we can conclude that there is only 3.59% death that is occured out of 96.41% "
   ]
  },
  {
   "cell_type": "markdown",
   "metadata": {},
   "source": [
    "## Displaying Hierarchical Structures"
   ]
  },
  {
   "cell_type": "code",
   "execution_count": 69,
   "metadata": {},
   "outputs": [
    {
     "name": "stdout",
     "output_type": "stream",
     "text": [
      "Requirement already satisfied: plotly in c:\\users\\syed0829\\anaconda3\\lib\\site-packages (4.11.0)\n",
      "Requirement already satisfied: six in c:\\users\\syed0829\\anaconda3\\lib\\site-packages (from plotly) (1.15.0)\n",
      "Requirement already satisfied: retrying>=1.3.3 in c:\\users\\syed0829\\anaconda3\\lib\\site-packages (from plotly) (1.3.3)\n"
     ]
    }
   ],
   "source": [
    "!pip install plotly"
   ]
  },
  {
   "cell_type": "code",
   "execution_count": 84,
   "metadata": {},
   "outputs": [
    {
     "data": {
      "application/vnd.plotly.v1+json": {
       "config": {
        "plotlyServerURL": "https://plot.ly"
       },
       "data": [
        {
         "branchvalues": "total",
         "customdata": [
          [
           1273,
           23238,
           57,
           "Algeria"
          ],
          [
           64,
           520,
           20,
           "Angola"
          ],
          [
           1298,
           25840,
           31,
           "Afghanistan"
          ],
          [
           188,
           3155,
           23,
           "Albania"
          ],
          [
           52,
           828,
           1,
           "Andorra"
          ],
          [
           1273,
           23238,
           57,
           "Algeria"
          ],
          [
           64,
           520,
           20,
           "Angola"
          ],
          [
           1298,
           25840,
           31,
           "Afghanistan"
          ],
          [
           188,
           3155,
           23,
           "Albania"
          ],
          [
           52,
           828,
           1,
           "Andorra"
          ],
          [
           1298,
           25840,
           31,
           "Afghanistan"
          ],
          [
           188,
           3155,
           23,
           "Albania"
          ],
          [
           1273,
           23238,
           57,
           "Algeria"
          ],
          [
           52,
           828,
           1,
           "Andorra"
          ],
          [
           64,
           520,
           20,
           "Angola"
          ]
         ],
         "domain": {
          "x": [
           0,
           1
          ],
          "y": [
           0,
           1
          ]
         },
         "hovertemplate": "labels=%{label}<br>ActiveCases=%{value}<br>parent=%{parent}<br>id=%{id}<br>updatesTotalDeaths=%{customdata[0]}<br>updatesTotalRecovered=%{customdata[1]}<br>Serious,Critical=%{customdata[2]}<br>Country/Region=%{customdata[3]}<extra></extra>",
         "ids": [
          "Algeria/Africa/Africa",
          "Angola/Africa/Africa",
          "Afghanistan/Asia/EasternMediterranean",
          "Albania/Europe/Europe",
          "Andorra/Europe/Europe",
          "Algeria/Africa",
          "Angola/Africa",
          "Afghanistan/Asia",
          "Albania/Europe",
          "Andorra/Europe",
          "Afghanistan",
          "Albania",
          "Algeria",
          "Andorra",
          "Angola"
         ],
         "labels": [
          "Africa",
          "Africa",
          "EasternMediterranean",
          "Europe",
          "Europe",
          "Africa",
          "Africa",
          "Asia",
          "Europe",
          "Europe",
          "Afghanistan",
          "Albania",
          "Algeria",
          "Andorra",
          "Angola"
         ],
         "marker": {
          "colors": [
           "#636efa",
           "#EF553B",
           "#00cc96",
           "#ab63fa",
           "#FFA15A",
           "#636efa",
           "#EF553B",
           "#00cc96",
           "#ab63fa",
           "#FFA15A",
           "#00cc96",
           "#ab63fa",
           "#636efa",
           "#FFA15A",
           "#EF553B"
          ]
         },
         "name": "",
         "parents": [
          "Algeria/Africa",
          "Angola/Africa",
          "Afghanistan/Asia",
          "Albania/Europe",
          "Andorra/Europe",
          "Algeria",
          "Angola",
          "Afghanistan",
          "Albania",
          "Andorra",
          "",
          "",
          "",
          "",
          ""
         ],
         "type": "treemap",
         "values": [
          9115,
          899,
          9758,
          2673,
          64,
          9115,
          899,
          9758,
          2673,
          64,
          9758,
          2673,
          9115,
          64,
          899
         ]
        }
       ],
       "layout": {
        "height": 800,
        "legend": {
         "tracegroupgap": 0
        },
        "template": {
         "data": {
          "bar": [
           {
            "error_x": {
             "color": "#2a3f5f"
            },
            "error_y": {
             "color": "#2a3f5f"
            },
            "marker": {
             "line": {
              "color": "#E5ECF6",
              "width": 0.5
             }
            },
            "type": "bar"
           }
          ],
          "barpolar": [
           {
            "marker": {
             "line": {
              "color": "#E5ECF6",
              "width": 0.5
             }
            },
            "type": "barpolar"
           }
          ],
          "carpet": [
           {
            "aaxis": {
             "endlinecolor": "#2a3f5f",
             "gridcolor": "white",
             "linecolor": "white",
             "minorgridcolor": "white",
             "startlinecolor": "#2a3f5f"
            },
            "baxis": {
             "endlinecolor": "#2a3f5f",
             "gridcolor": "white",
             "linecolor": "white",
             "minorgridcolor": "white",
             "startlinecolor": "#2a3f5f"
            },
            "type": "carpet"
           }
          ],
          "choropleth": [
           {
            "colorbar": {
             "outlinewidth": 0,
             "ticks": ""
            },
            "type": "choropleth"
           }
          ],
          "contour": [
           {
            "colorbar": {
             "outlinewidth": 0,
             "ticks": ""
            },
            "colorscale": [
             [
              0,
              "#0d0887"
             ],
             [
              0.1111111111111111,
              "#46039f"
             ],
             [
              0.2222222222222222,
              "#7201a8"
             ],
             [
              0.3333333333333333,
              "#9c179e"
             ],
             [
              0.4444444444444444,
              "#bd3786"
             ],
             [
              0.5555555555555556,
              "#d8576b"
             ],
             [
              0.6666666666666666,
              "#ed7953"
             ],
             [
              0.7777777777777778,
              "#fb9f3a"
             ],
             [
              0.8888888888888888,
              "#fdca26"
             ],
             [
              1,
              "#f0f921"
             ]
            ],
            "type": "contour"
           }
          ],
          "contourcarpet": [
           {
            "colorbar": {
             "outlinewidth": 0,
             "ticks": ""
            },
            "type": "contourcarpet"
           }
          ],
          "heatmap": [
           {
            "colorbar": {
             "outlinewidth": 0,
             "ticks": ""
            },
            "colorscale": [
             [
              0,
              "#0d0887"
             ],
             [
              0.1111111111111111,
              "#46039f"
             ],
             [
              0.2222222222222222,
              "#7201a8"
             ],
             [
              0.3333333333333333,
              "#9c179e"
             ],
             [
              0.4444444444444444,
              "#bd3786"
             ],
             [
              0.5555555555555556,
              "#d8576b"
             ],
             [
              0.6666666666666666,
              "#ed7953"
             ],
             [
              0.7777777777777778,
              "#fb9f3a"
             ],
             [
              0.8888888888888888,
              "#fdca26"
             ],
             [
              1,
              "#f0f921"
             ]
            ],
            "type": "heatmap"
           }
          ],
          "heatmapgl": [
           {
            "colorbar": {
             "outlinewidth": 0,
             "ticks": ""
            },
            "colorscale": [
             [
              0,
              "#0d0887"
             ],
             [
              0.1111111111111111,
              "#46039f"
             ],
             [
              0.2222222222222222,
              "#7201a8"
             ],
             [
              0.3333333333333333,
              "#9c179e"
             ],
             [
              0.4444444444444444,
              "#bd3786"
             ],
             [
              0.5555555555555556,
              "#d8576b"
             ],
             [
              0.6666666666666666,
              "#ed7953"
             ],
             [
              0.7777777777777778,
              "#fb9f3a"
             ],
             [
              0.8888888888888888,
              "#fdca26"
             ],
             [
              1,
              "#f0f921"
             ]
            ],
            "type": "heatmapgl"
           }
          ],
          "histogram": [
           {
            "marker": {
             "colorbar": {
              "outlinewidth": 0,
              "ticks": ""
             }
            },
            "type": "histogram"
           }
          ],
          "histogram2d": [
           {
            "colorbar": {
             "outlinewidth": 0,
             "ticks": ""
            },
            "colorscale": [
             [
              0,
              "#0d0887"
             ],
             [
              0.1111111111111111,
              "#46039f"
             ],
             [
              0.2222222222222222,
              "#7201a8"
             ],
             [
              0.3333333333333333,
              "#9c179e"
             ],
             [
              0.4444444444444444,
              "#bd3786"
             ],
             [
              0.5555555555555556,
              "#d8576b"
             ],
             [
              0.6666666666666666,
              "#ed7953"
             ],
             [
              0.7777777777777778,
              "#fb9f3a"
             ],
             [
              0.8888888888888888,
              "#fdca26"
             ],
             [
              1,
              "#f0f921"
             ]
            ],
            "type": "histogram2d"
           }
          ],
          "histogram2dcontour": [
           {
            "colorbar": {
             "outlinewidth": 0,
             "ticks": ""
            },
            "colorscale": [
             [
              0,
              "#0d0887"
             ],
             [
              0.1111111111111111,
              "#46039f"
             ],
             [
              0.2222222222222222,
              "#7201a8"
             ],
             [
              0.3333333333333333,
              "#9c179e"
             ],
             [
              0.4444444444444444,
              "#bd3786"
             ],
             [
              0.5555555555555556,
              "#d8576b"
             ],
             [
              0.6666666666666666,
              "#ed7953"
             ],
             [
              0.7777777777777778,
              "#fb9f3a"
             ],
             [
              0.8888888888888888,
              "#fdca26"
             ],
             [
              1,
              "#f0f921"
             ]
            ],
            "type": "histogram2dcontour"
           }
          ],
          "mesh3d": [
           {
            "colorbar": {
             "outlinewidth": 0,
             "ticks": ""
            },
            "type": "mesh3d"
           }
          ],
          "parcoords": [
           {
            "line": {
             "colorbar": {
              "outlinewidth": 0,
              "ticks": ""
             }
            },
            "type": "parcoords"
           }
          ],
          "pie": [
           {
            "automargin": true,
            "type": "pie"
           }
          ],
          "scatter": [
           {
            "marker": {
             "colorbar": {
              "outlinewidth": 0,
              "ticks": ""
             }
            },
            "type": "scatter"
           }
          ],
          "scatter3d": [
           {
            "line": {
             "colorbar": {
              "outlinewidth": 0,
              "ticks": ""
             }
            },
            "marker": {
             "colorbar": {
              "outlinewidth": 0,
              "ticks": ""
             }
            },
            "type": "scatter3d"
           }
          ],
          "scattercarpet": [
           {
            "marker": {
             "colorbar": {
              "outlinewidth": 0,
              "ticks": ""
             }
            },
            "type": "scattercarpet"
           }
          ],
          "scattergeo": [
           {
            "marker": {
             "colorbar": {
              "outlinewidth": 0,
              "ticks": ""
             }
            },
            "type": "scattergeo"
           }
          ],
          "scattergl": [
           {
            "marker": {
             "colorbar": {
              "outlinewidth": 0,
              "ticks": ""
             }
            },
            "type": "scattergl"
           }
          ],
          "scattermapbox": [
           {
            "marker": {
             "colorbar": {
              "outlinewidth": 0,
              "ticks": ""
             }
            },
            "type": "scattermapbox"
           }
          ],
          "scatterpolar": [
           {
            "marker": {
             "colorbar": {
              "outlinewidth": 0,
              "ticks": ""
             }
            },
            "type": "scatterpolar"
           }
          ],
          "scatterpolargl": [
           {
            "marker": {
             "colorbar": {
              "outlinewidth": 0,
              "ticks": ""
             }
            },
            "type": "scatterpolargl"
           }
          ],
          "scatterternary": [
           {
            "marker": {
             "colorbar": {
              "outlinewidth": 0,
              "ticks": ""
             }
            },
            "type": "scatterternary"
           }
          ],
          "surface": [
           {
            "colorbar": {
             "outlinewidth": 0,
             "ticks": ""
            },
            "colorscale": [
             [
              0,
              "#0d0887"
             ],
             [
              0.1111111111111111,
              "#46039f"
             ],
             [
              0.2222222222222222,
              "#7201a8"
             ],
             [
              0.3333333333333333,
              "#9c179e"
             ],
             [
              0.4444444444444444,
              "#bd3786"
             ],
             [
              0.5555555555555556,
              "#d8576b"
             ],
             [
              0.6666666666666666,
              "#ed7953"
             ],
             [
              0.7777777777777778,
              "#fb9f3a"
             ],
             [
              0.8888888888888888,
              "#fdca26"
             ],
             [
              1,
              "#f0f921"
             ]
            ],
            "type": "surface"
           }
          ],
          "table": [
           {
            "cells": {
             "fill": {
              "color": "#EBF0F8"
             },
             "line": {
              "color": "white"
             }
            },
            "header": {
             "fill": {
              "color": "#C8D4E3"
             },
             "line": {
              "color": "white"
             }
            },
            "type": "table"
           }
          ]
         },
         "layout": {
          "annotationdefaults": {
           "arrowcolor": "#2a3f5f",
           "arrowhead": 0,
           "arrowwidth": 1
          },
          "coloraxis": {
           "colorbar": {
            "outlinewidth": 0,
            "ticks": ""
           }
          },
          "colorscale": {
           "diverging": [
            [
             0,
             "#8e0152"
            ],
            [
             0.1,
             "#c51b7d"
            ],
            [
             0.2,
             "#de77ae"
            ],
            [
             0.3,
             "#f1b6da"
            ],
            [
             0.4,
             "#fde0ef"
            ],
            [
             0.5,
             "#f7f7f7"
            ],
            [
             0.6,
             "#e6f5d0"
            ],
            [
             0.7,
             "#b8e186"
            ],
            [
             0.8,
             "#7fbc41"
            ],
            [
             0.9,
             "#4d9221"
            ],
            [
             1,
             "#276419"
            ]
           ],
           "sequential": [
            [
             0,
             "#0d0887"
            ],
            [
             0.1111111111111111,
             "#46039f"
            ],
            [
             0.2222222222222222,
             "#7201a8"
            ],
            [
             0.3333333333333333,
             "#9c179e"
            ],
            [
             0.4444444444444444,
             "#bd3786"
            ],
            [
             0.5555555555555556,
             "#d8576b"
            ],
            [
             0.6666666666666666,
             "#ed7953"
            ],
            [
             0.7777777777777778,
             "#fb9f3a"
            ],
            [
             0.8888888888888888,
             "#fdca26"
            ],
            [
             1,
             "#f0f921"
            ]
           ],
           "sequentialminus": [
            [
             0,
             "#0d0887"
            ],
            [
             0.1111111111111111,
             "#46039f"
            ],
            [
             0.2222222222222222,
             "#7201a8"
            ],
            [
             0.3333333333333333,
             "#9c179e"
            ],
            [
             0.4444444444444444,
             "#bd3786"
            ],
            [
             0.5555555555555556,
             "#d8576b"
            ],
            [
             0.6666666666666666,
             "#ed7953"
            ],
            [
             0.7777777777777778,
             "#fb9f3a"
            ],
            [
             0.8888888888888888,
             "#fdca26"
            ],
            [
             1,
             "#f0f921"
            ]
           ]
          },
          "colorway": [
           "#636efa",
           "#EF553B",
           "#00cc96",
           "#ab63fa",
           "#FFA15A",
           "#19d3f3",
           "#FF6692",
           "#B6E880",
           "#FF97FF",
           "#FECB52"
          ],
          "font": {
           "color": "#2a3f5f"
          },
          "geo": {
           "bgcolor": "white",
           "lakecolor": "white",
           "landcolor": "#E5ECF6",
           "showlakes": true,
           "showland": true,
           "subunitcolor": "white"
          },
          "hoverlabel": {
           "align": "left"
          },
          "hovermode": "closest",
          "mapbox": {
           "style": "light"
          },
          "paper_bgcolor": "white",
          "plot_bgcolor": "#E5ECF6",
          "polar": {
           "angularaxis": {
            "gridcolor": "white",
            "linecolor": "white",
            "ticks": ""
           },
           "bgcolor": "#E5ECF6",
           "radialaxis": {
            "gridcolor": "white",
            "linecolor": "white",
            "ticks": ""
           }
          },
          "scene": {
           "xaxis": {
            "backgroundcolor": "#E5ECF6",
            "gridcolor": "white",
            "gridwidth": 2,
            "linecolor": "white",
            "showbackground": true,
            "ticks": "",
            "zerolinecolor": "white"
           },
           "yaxis": {
            "backgroundcolor": "#E5ECF6",
            "gridcolor": "white",
            "gridwidth": 2,
            "linecolor": "white",
            "showbackground": true,
            "ticks": "",
            "zerolinecolor": "white"
           },
           "zaxis": {
            "backgroundcolor": "#E5ECF6",
            "gridcolor": "white",
            "gridwidth": 2,
            "linecolor": "white",
            "showbackground": true,
            "ticks": "",
            "zerolinecolor": "white"
           }
          },
          "shapedefaults": {
           "line": {
            "color": "#2a3f5f"
           }
          },
          "ternary": {
           "aaxis": {
            "gridcolor": "white",
            "linecolor": "white",
            "ticks": ""
           },
           "baxis": {
            "gridcolor": "white",
            "linecolor": "white",
            "ticks": ""
           },
           "bgcolor": "#E5ECF6",
           "caxis": {
            "gridcolor": "white",
            "linecolor": "white",
            "ticks": ""
           }
          },
          "title": {
           "x": 0.05
          },
          "xaxis": {
           "automargin": true,
           "gridcolor": "white",
           "linecolor": "white",
           "ticks": "",
           "title": {
            "standoff": 15
           },
           "zerolinecolor": "white",
           "zerolinewidth": 2
          },
          "yaxis": {
           "automargin": true,
           "gridcolor": "white",
           "linecolor": "white",
           "ticks": "",
           "title": {
            "standoff": 15
           },
           "zerolinecolor": "white",
           "zerolinewidth": 2
          }
         }
        },
        "title": {
         "text": "ACTIVE CASES DISTRUBUTION"
        },
        "width": 1000
       }
      },
      "text/html": [
       "<div>                            <div id=\"78131bea-ba23-462c-9528-b1ec2d401451\" class=\"plotly-graph-div\" style=\"height:800px; width:1000px;\"></div>            <script type=\"text/javascript\">                require([\"plotly\"], function(Plotly) {                    window.PLOTLYENV=window.PLOTLYENV || {};                                    if (document.getElementById(\"78131bea-ba23-462c-9528-b1ec2d401451\")) {                    Plotly.newPlot(                        \"78131bea-ba23-462c-9528-b1ec2d401451\",                        [{\"branchvalues\": \"total\", \"customdata\": [[1273.0, 23238.0, 57.0, \"Algeria\"], [64.0, 520.0, 20.0, \"Angola\"], [1298.0, 25840.0, 31.0, \"Afghanistan\"], [188.0, 3155.0, 23.0, \"Albania\"], [52.0, 828.0, 1.0, \"Andorra\"], [1273.0, 23238.0, 57.0, \"Algeria\"], [64.0, 520.0, 20.0, \"Angola\"], [1298.0, 25840.0, 31.0, \"Afghanistan\"], [188.0, 3155.0, 23.0, \"Albania\"], [52.0, 828.0, 1.0, \"Andorra\"], [1298.0, 25840.0, 31.0, \"Afghanistan\"], [188.0, 3155.0, 23.0, \"Albania\"], [1273.0, 23238.0, 57.0, \"Algeria\"], [52.0, 828.0, 1.0, \"Andorra\"], [64.0, 520.0, 20.0, \"Angola\"]], \"domain\": {\"x\": [0.0, 1.0], \"y\": [0.0, 1.0]}, \"hovertemplate\": \"labels=%{label}<br>ActiveCases=%{value}<br>parent=%{parent}<br>id=%{id}<br>updatesTotalDeaths=%{customdata[0]}<br>updatesTotalRecovered=%{customdata[1]}<br>Serious,Critical=%{customdata[2]}<br>Country/Region=%{customdata[3]}<extra></extra>\", \"ids\": [\"Algeria/Africa/Africa\", \"Angola/Africa/Africa\", \"Afghanistan/Asia/EasternMediterranean\", \"Albania/Europe/Europe\", \"Andorra/Europe/Europe\", \"Algeria/Africa\", \"Angola/Africa\", \"Afghanistan/Asia\", \"Albania/Europe\", \"Andorra/Europe\", \"Afghanistan\", \"Albania\", \"Algeria\", \"Andorra\", \"Angola\"], \"labels\": [\"Africa\", \"Africa\", \"EasternMediterranean\", \"Europe\", \"Europe\", \"Africa\", \"Africa\", \"Asia\", \"Europe\", \"Europe\", \"Afghanistan\", \"Albania\", \"Algeria\", \"Andorra\", \"Angola\"], \"marker\": {\"colors\": [\"#636efa\", \"#EF553B\", \"#00cc96\", \"#ab63fa\", \"#FFA15A\", \"#636efa\", \"#EF553B\", \"#00cc96\", \"#ab63fa\", \"#FFA15A\", \"#00cc96\", \"#ab63fa\", \"#636efa\", \"#FFA15A\", \"#EF553B\"]}, \"name\": \"\", \"parents\": [\"Algeria/Africa\", \"Angola/Africa\", \"Afghanistan/Asia\", \"Albania/Europe\", \"Andorra/Europe\", \"Algeria\", \"Angola\", \"Afghanistan\", \"Albania\", \"Andorra\", \"\", \"\", \"\", \"\", \"\"], \"type\": \"treemap\", \"values\": [9115.0, 899.0, 9758.0, 2673.0, 64.0, 9115.0, 899.0, 9758.0, 2673.0, 64.0, 9758.0, 2673.0, 9115.0, 64.0, 899.0]}],                        {\"height\": 800, \"legend\": {\"tracegroupgap\": 0}, \"template\": {\"data\": {\"bar\": [{\"error_x\": {\"color\": \"#2a3f5f\"}, \"error_y\": {\"color\": \"#2a3f5f\"}, \"marker\": {\"line\": {\"color\": \"#E5ECF6\", \"width\": 0.5}}, \"type\": \"bar\"}], \"barpolar\": [{\"marker\": {\"line\": {\"color\": \"#E5ECF6\", \"width\": 0.5}}, \"type\": \"barpolar\"}], \"carpet\": [{\"aaxis\": {\"endlinecolor\": \"#2a3f5f\", \"gridcolor\": \"white\", \"linecolor\": \"white\", \"minorgridcolor\": \"white\", \"startlinecolor\": \"#2a3f5f\"}, \"baxis\": {\"endlinecolor\": \"#2a3f5f\", \"gridcolor\": \"white\", \"linecolor\": \"white\", \"minorgridcolor\": \"white\", \"startlinecolor\": \"#2a3f5f\"}, \"type\": \"carpet\"}], \"choropleth\": [{\"colorbar\": {\"outlinewidth\": 0, \"ticks\": \"\"}, \"type\": \"choropleth\"}], \"contour\": [{\"colorbar\": {\"outlinewidth\": 0, \"ticks\": \"\"}, \"colorscale\": [[0.0, \"#0d0887\"], [0.1111111111111111, \"#46039f\"], [0.2222222222222222, \"#7201a8\"], [0.3333333333333333, \"#9c179e\"], [0.4444444444444444, \"#bd3786\"], [0.5555555555555556, \"#d8576b\"], [0.6666666666666666, \"#ed7953\"], [0.7777777777777778, \"#fb9f3a\"], [0.8888888888888888, \"#fdca26\"], [1.0, \"#f0f921\"]], \"type\": \"contour\"}], \"contourcarpet\": [{\"colorbar\": {\"outlinewidth\": 0, \"ticks\": \"\"}, \"type\": \"contourcarpet\"}], \"heatmap\": [{\"colorbar\": {\"outlinewidth\": 0, \"ticks\": \"\"}, \"colorscale\": [[0.0, \"#0d0887\"], [0.1111111111111111, \"#46039f\"], [0.2222222222222222, \"#7201a8\"], [0.3333333333333333, \"#9c179e\"], [0.4444444444444444, \"#bd3786\"], [0.5555555555555556, \"#d8576b\"], [0.6666666666666666, \"#ed7953\"], [0.7777777777777778, \"#fb9f3a\"], [0.8888888888888888, \"#fdca26\"], [1.0, \"#f0f921\"]], \"type\": \"heatmap\"}], \"heatmapgl\": [{\"colorbar\": {\"outlinewidth\": 0, \"ticks\": \"\"}, \"colorscale\": [[0.0, \"#0d0887\"], [0.1111111111111111, \"#46039f\"], [0.2222222222222222, \"#7201a8\"], [0.3333333333333333, \"#9c179e\"], [0.4444444444444444, \"#bd3786\"], [0.5555555555555556, \"#d8576b\"], [0.6666666666666666, \"#ed7953\"], [0.7777777777777778, \"#fb9f3a\"], [0.8888888888888888, \"#fdca26\"], [1.0, \"#f0f921\"]], \"type\": \"heatmapgl\"}], \"histogram\": [{\"marker\": {\"colorbar\": {\"outlinewidth\": 0, \"ticks\": \"\"}}, \"type\": \"histogram\"}], \"histogram2d\": [{\"colorbar\": {\"outlinewidth\": 0, \"ticks\": \"\"}, \"colorscale\": [[0.0, \"#0d0887\"], [0.1111111111111111, \"#46039f\"], [0.2222222222222222, \"#7201a8\"], [0.3333333333333333, \"#9c179e\"], [0.4444444444444444, \"#bd3786\"], [0.5555555555555556, \"#d8576b\"], [0.6666666666666666, \"#ed7953\"], [0.7777777777777778, \"#fb9f3a\"], [0.8888888888888888, \"#fdca26\"], [1.0, \"#f0f921\"]], \"type\": \"histogram2d\"}], \"histogram2dcontour\": [{\"colorbar\": {\"outlinewidth\": 0, \"ticks\": \"\"}, \"colorscale\": [[0.0, \"#0d0887\"], [0.1111111111111111, \"#46039f\"], [0.2222222222222222, \"#7201a8\"], [0.3333333333333333, \"#9c179e\"], [0.4444444444444444, \"#bd3786\"], [0.5555555555555556, \"#d8576b\"], [0.6666666666666666, \"#ed7953\"], [0.7777777777777778, \"#fb9f3a\"], [0.8888888888888888, \"#fdca26\"], [1.0, \"#f0f921\"]], \"type\": \"histogram2dcontour\"}], \"mesh3d\": [{\"colorbar\": {\"outlinewidth\": 0, \"ticks\": \"\"}, \"type\": \"mesh3d\"}], \"parcoords\": [{\"line\": {\"colorbar\": {\"outlinewidth\": 0, \"ticks\": \"\"}}, \"type\": \"parcoords\"}], \"pie\": [{\"automargin\": true, \"type\": \"pie\"}], \"scatter\": [{\"marker\": {\"colorbar\": {\"outlinewidth\": 0, \"ticks\": \"\"}}, \"type\": \"scatter\"}], \"scatter3d\": [{\"line\": {\"colorbar\": {\"outlinewidth\": 0, \"ticks\": \"\"}}, \"marker\": {\"colorbar\": {\"outlinewidth\": 0, \"ticks\": \"\"}}, \"type\": \"scatter3d\"}], \"scattercarpet\": [{\"marker\": {\"colorbar\": {\"outlinewidth\": 0, \"ticks\": \"\"}}, \"type\": \"scattercarpet\"}], \"scattergeo\": [{\"marker\": {\"colorbar\": {\"outlinewidth\": 0, \"ticks\": \"\"}}, \"type\": \"scattergeo\"}], \"scattergl\": [{\"marker\": {\"colorbar\": {\"outlinewidth\": 0, \"ticks\": \"\"}}, \"type\": \"scattergl\"}], \"scattermapbox\": [{\"marker\": {\"colorbar\": {\"outlinewidth\": 0, \"ticks\": \"\"}}, \"type\": \"scattermapbox\"}], \"scatterpolar\": [{\"marker\": {\"colorbar\": {\"outlinewidth\": 0, \"ticks\": \"\"}}, \"type\": \"scatterpolar\"}], \"scatterpolargl\": [{\"marker\": {\"colorbar\": {\"outlinewidth\": 0, \"ticks\": \"\"}}, \"type\": \"scatterpolargl\"}], \"scatterternary\": [{\"marker\": {\"colorbar\": {\"outlinewidth\": 0, \"ticks\": \"\"}}, \"type\": \"scatterternary\"}], \"surface\": [{\"colorbar\": {\"outlinewidth\": 0, \"ticks\": \"\"}, \"colorscale\": [[0.0, \"#0d0887\"], [0.1111111111111111, \"#46039f\"], [0.2222222222222222, \"#7201a8\"], [0.3333333333333333, \"#9c179e\"], [0.4444444444444444, \"#bd3786\"], [0.5555555555555556, \"#d8576b\"], [0.6666666666666666, \"#ed7953\"], [0.7777777777777778, \"#fb9f3a\"], [0.8888888888888888, \"#fdca26\"], [1.0, \"#f0f921\"]], \"type\": \"surface\"}], \"table\": [{\"cells\": {\"fill\": {\"color\": \"#EBF0F8\"}, \"line\": {\"color\": \"white\"}}, \"header\": {\"fill\": {\"color\": \"#C8D4E3\"}, \"line\": {\"color\": \"white\"}}, \"type\": \"table\"}]}, \"layout\": {\"annotationdefaults\": {\"arrowcolor\": \"#2a3f5f\", \"arrowhead\": 0, \"arrowwidth\": 1}, \"coloraxis\": {\"colorbar\": {\"outlinewidth\": 0, \"ticks\": \"\"}}, \"colorscale\": {\"diverging\": [[0, \"#8e0152\"], [0.1, \"#c51b7d\"], [0.2, \"#de77ae\"], [0.3, \"#f1b6da\"], [0.4, \"#fde0ef\"], [0.5, \"#f7f7f7\"], [0.6, \"#e6f5d0\"], [0.7, \"#b8e186\"], [0.8, \"#7fbc41\"], [0.9, \"#4d9221\"], [1, \"#276419\"]], \"sequential\": [[0.0, \"#0d0887\"], [0.1111111111111111, \"#46039f\"], [0.2222222222222222, \"#7201a8\"], [0.3333333333333333, \"#9c179e\"], [0.4444444444444444, \"#bd3786\"], [0.5555555555555556, \"#d8576b\"], [0.6666666666666666, \"#ed7953\"], [0.7777777777777778, \"#fb9f3a\"], [0.8888888888888888, \"#fdca26\"], [1.0, \"#f0f921\"]], \"sequentialminus\": [[0.0, \"#0d0887\"], [0.1111111111111111, \"#46039f\"], [0.2222222222222222, \"#7201a8\"], [0.3333333333333333, \"#9c179e\"], [0.4444444444444444, \"#bd3786\"], [0.5555555555555556, \"#d8576b\"], [0.6666666666666666, \"#ed7953\"], [0.7777777777777778, \"#fb9f3a\"], [0.8888888888888888, \"#fdca26\"], [1.0, \"#f0f921\"]]}, \"colorway\": [\"#636efa\", \"#EF553B\", \"#00cc96\", \"#ab63fa\", \"#FFA15A\", \"#19d3f3\", \"#FF6692\", \"#B6E880\", \"#FF97FF\", \"#FECB52\"], \"font\": {\"color\": \"#2a3f5f\"}, \"geo\": {\"bgcolor\": \"white\", \"lakecolor\": \"white\", \"landcolor\": \"#E5ECF6\", \"showlakes\": true, \"showland\": true, \"subunitcolor\": \"white\"}, \"hoverlabel\": {\"align\": \"left\"}, \"hovermode\": \"closest\", \"mapbox\": {\"style\": \"light\"}, \"paper_bgcolor\": \"white\", \"plot_bgcolor\": \"#E5ECF6\", \"polar\": {\"angularaxis\": {\"gridcolor\": \"white\", \"linecolor\": \"white\", \"ticks\": \"\"}, \"bgcolor\": \"#E5ECF6\", \"radialaxis\": {\"gridcolor\": \"white\", \"linecolor\": \"white\", \"ticks\": \"\"}}, \"scene\": {\"xaxis\": {\"backgroundcolor\": \"#E5ECF6\", \"gridcolor\": \"white\", \"gridwidth\": 2, \"linecolor\": \"white\", \"showbackground\": true, \"ticks\": \"\", \"zerolinecolor\": \"white\"}, \"yaxis\": {\"backgroundcolor\": \"#E5ECF6\", \"gridcolor\": \"white\", \"gridwidth\": 2, \"linecolor\": \"white\", \"showbackground\": true, \"ticks\": \"\", \"zerolinecolor\": \"white\"}, \"zaxis\": {\"backgroundcolor\": \"#E5ECF6\", \"gridcolor\": \"white\", \"gridwidth\": 2, \"linecolor\": \"white\", \"showbackground\": true, \"ticks\": \"\", \"zerolinecolor\": \"white\"}}, \"shapedefaults\": {\"line\": {\"color\": \"#2a3f5f\"}}, \"ternary\": {\"aaxis\": {\"gridcolor\": \"white\", \"linecolor\": \"white\", \"ticks\": \"\"}, \"baxis\": {\"gridcolor\": \"white\", \"linecolor\": \"white\", \"ticks\": \"\"}, \"bgcolor\": \"#E5ECF6\", \"caxis\": {\"gridcolor\": \"white\", \"linecolor\": \"white\", \"ticks\": \"\"}}, \"title\": {\"x\": 0.05}, \"xaxis\": {\"automargin\": true, \"gridcolor\": \"white\", \"linecolor\": \"white\", \"ticks\": \"\", \"title\": {\"standoff\": 15}, \"zerolinecolor\": \"white\", \"zerolinewidth\": 2}, \"yaxis\": {\"automargin\": true, \"gridcolor\": \"white\", \"linecolor\": \"white\", \"ticks\": \"\", \"title\": {\"standoff\": 15}, \"zerolinecolor\": \"white\", \"zerolinewidth\": 2}}}, \"title\": {\"text\": \"ACTIVE CASES DISTRUBUTION\"}, \"width\": 1000},                        {\"responsive\": true}                    ).then(function(){\n",
       "                            \n",
       "var gd = document.getElementById('78131bea-ba23-462c-9528-b1ec2d401451');\n",
       "var x = new MutationObserver(function (mutations, observer) {{\n",
       "        var display = window.getComputedStyle(gd).display;\n",
       "        if (!display || display === 'none') {{\n",
       "            console.log([gd, 'removed!']);\n",
       "            Plotly.purge(gd);\n",
       "            observer.disconnect();\n",
       "        }}\n",
       "}});\n",
       "\n",
       "// Listen for the removal of the full notebook cells\n",
       "var notebookContainer = gd.closest('#notebook-container');\n",
       "if (notebookContainer) {{\n",
       "    x.observe(notebookContainer, {childList: true});\n",
       "}}\n",
       "\n",
       "// Listen for the clearing of the current output cell\n",
       "var outputEl = gd.closest('.output');\n",
       "if (outputEl) {{\n",
       "    x.observe(outputEl, {childList: true});\n",
       "}}\n",
       "\n",
       "                        })                };                });            </script>        </div>"
      ]
     },
     "metadata": {},
     "output_type": "display_data"
    }
   ],
   "source": [
    "fig1 = px.treemap(data,\n",
    "                 path=['Country/Region','Continent','WHO Region'],\n",
    "                 values='ActiveCases',\n",
    "                 color='Country/Region',\n",
    "                 width=1000,height=800,\n",
    "                 hover_data=[\"updatesTotalDeaths\",\"updatesTotalRecovered\",\"Serious,Critical\"],\n",
    "                 title=\"ACTIVE CASES DISTRUBUTION\",)\n",
    "fig1.show()"
   ]
  },
  {
   "cell_type": "markdown",
   "metadata": {},
   "source": [
    "### Observation: We can observe that America has the highest cases of 2lakhs plus and the least from Malta with 267"
   ]
  },
  {
   "cell_type": "code",
   "execution_count": 77,
   "metadata": {},
   "outputs": [
    {
     "data": {
      "text/html": [
       "<div>\n",
       "<style scoped>\n",
       "    .dataframe tbody tr th:only-of-type {\n",
       "        vertical-align: middle;\n",
       "    }\n",
       "\n",
       "    .dataframe tbody tr th {\n",
       "        vertical-align: top;\n",
       "    }\n",
       "\n",
       "    .dataframe thead th {\n",
       "        text-align: right;\n",
       "    }\n",
       "</style>\n",
       "<table border=\"1\" class=\"dataframe\">\n",
       "  <thead>\n",
       "    <tr style=\"text-align: right;\">\n",
       "      <th></th>\n",
       "      <th>Country/Region</th>\n",
       "      <th>Continent</th>\n",
       "      <th>Population</th>\n",
       "      <th>ActiveCases</th>\n",
       "      <th>Serious,Critical</th>\n",
       "      <th>TotalTests</th>\n",
       "      <th>WHO Region</th>\n",
       "      <th>updatesTotalCases</th>\n",
       "      <th>updatesTotalDeaths</th>\n",
       "      <th>updatesTotalRecovered</th>\n",
       "    </tr>\n",
       "  </thead>\n",
       "  <tbody>\n",
       "    <tr>\n",
       "      <th>52</th>\n",
       "      <td>Afghanistan</td>\n",
       "      <td>Asia</td>\n",
       "      <td>39009447.0</td>\n",
       "      <td>9758.0</td>\n",
       "      <td>31.0</td>\n",
       "      <td>90396.0</td>\n",
       "      <td>EasternMediterranean</td>\n",
       "      <td>36896.0</td>\n",
       "      <td>1298.0</td>\n",
       "      <td>25840.0</td>\n",
       "    </tr>\n",
       "    <tr>\n",
       "      <th>94</th>\n",
       "      <td>Albania</td>\n",
       "      <td>Europe</td>\n",
       "      <td>2877470.0</td>\n",
       "      <td>2673.0</td>\n",
       "      <td>23.0</td>\n",
       "      <td>38997.0</td>\n",
       "      <td>Europe</td>\n",
       "      <td>6016.0</td>\n",
       "      <td>188.0</td>\n",
       "      <td>3155.0</td>\n",
       "    </tr>\n",
       "    <tr>\n",
       "      <th>54</th>\n",
       "      <td>Algeria</td>\n",
       "      <td>Africa</td>\n",
       "      <td>43926079.0</td>\n",
       "      <td>9115.0</td>\n",
       "      <td>57.0</td>\n",
       "      <td>NaN</td>\n",
       "      <td>Africa</td>\n",
       "      <td>33626.0</td>\n",
       "      <td>1273.0</td>\n",
       "      <td>23238.0</td>\n",
       "    </tr>\n",
       "    <tr>\n",
       "      <th>148</th>\n",
       "      <td>Andorra</td>\n",
       "      <td>Europe</td>\n",
       "      <td>77278.0</td>\n",
       "      <td>64.0</td>\n",
       "      <td>1.0</td>\n",
       "      <td>3750.0</td>\n",
       "      <td>Europe</td>\n",
       "      <td>944.0</td>\n",
       "      <td>52.0</td>\n",
       "      <td>828.0</td>\n",
       "    </tr>\n",
       "    <tr>\n",
       "      <th>134</th>\n",
       "      <td>Angola</td>\n",
       "      <td>Africa</td>\n",
       "      <td>32956300.0</td>\n",
       "      <td>899.0</td>\n",
       "      <td>20.0</td>\n",
       "      <td>64747.0</td>\n",
       "      <td>Africa</td>\n",
       "      <td>1483.0</td>\n",
       "      <td>64.0</td>\n",
       "      <td>520.0</td>\n",
       "    </tr>\n",
       "  </tbody>\n",
       "</table>\n",
       "</div>"
      ],
      "text/plain": [
       "    Country/Region Continent  Population  ActiveCases  Serious,Critical  \\\n",
       "52     Afghanistan      Asia  39009447.0       9758.0              31.0   \n",
       "94         Albania    Europe   2877470.0       2673.0              23.0   \n",
       "54         Algeria    Africa  43926079.0       9115.0              57.0   \n",
       "148        Andorra    Europe     77278.0         64.0               1.0   \n",
       "134         Angola    Africa  32956300.0        899.0              20.0   \n",
       "\n",
       "     TotalTests            WHO Region  updatesTotalCases  updatesTotalDeaths  \\\n",
       "52      90396.0  EasternMediterranean            36896.0              1298.0   \n",
       "94      38997.0                Europe             6016.0               188.0   \n",
       "54          NaN                Africa            33626.0              1273.0   \n",
       "148      3750.0                Europe              944.0                52.0   \n",
       "134     64747.0                Africa             1483.0                64.0   \n",
       "\n",
       "     updatesTotalRecovered  \n",
       "52                 25840.0  \n",
       "94                  3155.0  \n",
       "54                 23238.0  \n",
       "148                  828.0  \n",
       "134                  520.0  "
      ]
     },
     "execution_count": 77,
     "metadata": {},
     "output_type": "execute_result"
    }
   ],
   "source": [
    "data.head()"
   ]
  },
  {
   "cell_type": "code",
   "execution_count": 78,
   "metadata": {},
   "outputs": [
    {
     "data": {
      "image/png": "[encoded data removed]",
      "text/plain": [
       "<Figure size 576x432 with 1 Axes>"
      ]
     },
     "metadata": {
      "needs_background": "light"
     },
     "output_type": "display_data"
    }
   ],
   "source": [
    "data=data.sort_values(by='Country/Region')\n",
    "data=data.head()\n",
    "colors= [\"#6d904f\",\"#fc4f30\",\"#008fd5\"]\n",
    "s=data['Country/Region']\n",
    "tested=list(data['TotalTests'].sort_values())\n",
    "confirmed=list(data['ActiveCases'].sort_values())\n",
    "recovered=list(data['updatesTotalRecovered'].sort_values())\n",
    "label=['tested','active','recovered']\n",
    "fig=plt.figure(figsize=(8,6))\n",
    "plt.stackplot(s,tested,confirmed,recovered,labels=label,colors=colors)\n",
    "plt.legend(loc='upper left')\n",
    "plt.title(\"total info about countries\")\n",
    "plt.show()"
   ]
  },
  {
   "cell_type": "markdown",
   "metadata": {},
   "source": [
    "\n",
    "### Observation: We can see that the tested has the major appearance "
   ]
  },
  {
   "cell_type": "markdown",
   "metadata": {},
   "source": [
    "## TOTAL ACTIVE V/S TOTAL RECOVERED"
   ]
  },
  {
   "cell_type": "code",
   "execution_count": 79,
   "metadata": {},
   "outputs": [
    {
     "data": {
      "image/png": "[encoded data removed]",
      "text/plain": [
       "<Figure size 576x432 with 1 Axes>"
      ]
     },
     "metadata": {
      "needs_background": "light"
     },
     "output_type": "display_data"
    }
   ],
   "source": [
    "data=data.sort_values(by='Country/Region')\n",
    "data=data.head(5)\n",
    "z=data['Country/Region']\n",
    "x=(data['ActiveCases'].sort_values())\n",
    "y=(data['updatesTotalRecovered'].sort_values())\n",
    "labels=['Active','recovered']\n",
    "fig=plt.figure(figsize=(8,6))\n",
    "colors= [\"blue\",\"black\"]\n",
    "plt.title('total active v/s total recovered')\n",
    "plt.stackplot(z,x,y,colors=colors,labels=labels)\n",
    "plt.legend(loc='upper left')\n",
    "plt.xticks(rotation='vertical')\n",
    "plt.show()"
   ]
  },
  {
   "cell_type": "markdown",
   "metadata": {},
   "source": [
    "### Observation: Active cases are comparitvely low when compared to recovered cases"
   ]
  },
  {
   "cell_type": "markdown",
   "metadata": {},
   "source": [
    "## TOTAL DEATHS V/S TOTAL RECOVERED"
   ]
  },
  {
   "cell_type": "code",
   "execution_count": 80,
   "metadata": {},
   "outputs": [
    {
     "data": {
      "image/png": "[encoded data removed]",
      "text/plain": [
       "<Figure size 576x432 with 1 Axes>"
      ]
     },
     "metadata": {
      "needs_background": "light"
     },
     "output_type": "display_data"
    }
   ],
   "source": [
    "data=data.sort_values(by='Country/Region')\n",
    "data=data.head(5)\n",
    "z=data['Country/Region']\n",
    "x=(data['updatesTotalDeaths'].sort_values())\n",
    "y=(data['updatesTotalRecovered'].sort_values())\n",
    "labels=['Deaths','recovered']\n",
    "fig=plt.figure(figsize=(8,6))\n",
    "colors= [\"yellow\",\"black\"]\n",
    "plt.title('total Deaths v/s total recovered')\n",
    "plt.stackplot(z,x,y,colors=colors,labels=labels)\n",
    "plt.legend(loc='upper left')\n",
    "plt.xticks(rotation='vertical')\n",
    "plt.show()"
   ]
  },
  {
   "cell_type": "markdown",
   "metadata": {},
   "source": [
    "### Observation: Deaths are almost nil or very less in DRC when compared to other countries"
   ]
  },
  {
   "cell_type": "markdown",
   "metadata": {},
   "source": [
    "## TOTAL DEATHS V/S TOTAL CRITICALS"
   ]
  },
  {
   "cell_type": "code",
   "execution_count": 81,
   "metadata": {},
   "outputs": [
    {
     "data": {
      "image/png": "[encoded data removed]",
      "text/plain": [
       "<Figure size 576x432 with 1 Axes>"
      ]
     },
     "metadata": {
      "needs_background": "light"
     },
     "output_type": "display_data"
    }
   ],
   "source": [
    "data=data.sort_values(by='Country/Region')\n",
    "data=data.head(5)\n",
    "z=data['Country/Region']\n",
    "x=(data['updatesTotalDeaths'].sort_values())\n",
    "y=(data['Serious,Critical'].sort_values())\n",
    "labels=['Deaths','Critical']\n",
    "fig=plt.figure(figsize=(8,6))\n",
    "colors= [\"red\",\"black\"]\n",
    "plt.title('total Deaths v/s total Critical')\n",
    "plt.stackplot(z,x,y,colors=colors,labels=labels)\n",
    "plt.legend(loc='upper left')\n",
    "plt.xticks(rotation='vertical')\n",
    "plt.show()"
   ]
  },
  {
   "cell_type": "markdown",
   "metadata": {},
   "source": [
    "### Observation: In DRC there are more number of people who are critical and less of deaths "
   ]
  },
  {
   "cell_type": "code",
   "execution_count": 82,
   "metadata": {},
   "outputs": [
    {
     "data": {
      "image/png": "[encoded data removed]",
      "text/plain": [
       "<Figure size 576x432 with 1 Axes>"
      ]
     },
     "metadata": {
      "needs_background": "light"
     },
     "output_type": "display_data"
    }
   ],
   "source": [
    "z=data['Country/Region']\n",
    "x=data['Population']\n",
    "y=data['TotalTests']\n",
    "labels=['Population','tested']\n",
    "fig=plt.figure(figsize=(8,6))\n",
    "colors= [\"yellow\",\"black\"]\n",
    "plt.title('total population v/s total tested')\n",
    "plt.stackplot(z,x,y,colors=colors,labels=labels)\n",
    "plt.legend(loc='upper left')\n",
    "plt.show()"
   ]
  },
  {
   "cell_type": "markdown",
   "metadata": {},
   "source": [
    "### Observation: Population when considered with total tested, the tested is almost negligible"
   ]
  },
  {
   "cell_type": "code",
   "execution_count": null,
   "metadata": {},
   "outputs": [],
   "source": []
  }
 ],
 "metadata": {
  "kernelspec": {
   "display_name": "Python 3",
   "language": "python",
   "name": "python3"
  },
  "language_info": {
   "codemirror_mode": {
    "name": "ipython",
    "version": 3
   },
   "file_extension": ".py",
   "mimetype": "text/x-python",
   "name": "python",
   "nbconvert_exporter": "python",
   "pygments_lexer": "ipython3",
   "version": "3.8.5"
  }
 },
 "nbformat": 4,
 "nbformat_minor": 4
}
